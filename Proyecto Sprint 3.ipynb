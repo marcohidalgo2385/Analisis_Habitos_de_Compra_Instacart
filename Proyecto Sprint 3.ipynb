{
 "cells": [
  {
   "cell_type": "markdown",
   "id": "c6cb797b",
   "metadata": {},
   "source": [
    "¡Hola!\n",
    "\n",
    "Mi nombre es Tonatiuh Cruz. Me complace revisar tu proyecto hoy.\n",
    "\n",
    "Al identificar cualquier error inicialmente, simplemente los destacaré. Te animo a localizar y abordar los problemas de forma independiente como parte de tu preparación para un rol como data-scientist. En un entorno profesional, tu líder de equipo seguiría un enfoque similar. Si encuentras la tarea desafiante, proporcionaré una pista más específica en la próxima iteración.\n",
    "\n",
    "Encontrarás mis comentarios a continuación - **por favor no los muevas, modifiques o elimines**.\n",
    "\n",
    "Puedes encontrar mis comentarios en cajas verdes, amarillas o rojas como esta:\n",
    "\n",
    "<div class=\"alert alert-block alert-success\">\n",
    "<b>Comentario del revisor</b> <a class=\"tocSkip\"></a>\n",
    "\n",
    "Éxito. Todo está hecho correctamente.\n",
    "</div>\n",
    "\n",
    "<div class=\"alert alert-block alert-warning\">\n",
    "<b>Comentario del revisor</b> <a class=\"tocSkip\"></a>\n",
    "\n",
    "Observaciones. Algunas recomendaciones.\n",
    "</div>\n",
    "\n",
    "<div class=\"alert alert-block alert-danger\">\n",
    "<b>Comentario del revisor</b> <a class=\"tocSkip\"></a>\n",
    "\n",
    "Necesita corrección. El bloque requiere algunas correcciones. El trabajo no puede ser aceptado con comentarios en rojo.\n",
    "</div>\n",
    "\n",
    "Puedes responderme utilizando esto:\n",
    "\n",
    "<div class=\"alert alert-block alert-info\">\n",
    "<b>Respuesta del estudiante.</b> <a class=\"tocSkip\"></a>\n",
    "</div>"
   ]
  },
  {
   "cell_type": "markdown",
   "id": "3Xg_RQfnafXz",
   "metadata": {
    "id": "3Xg_RQfnafXz"
   },
   "source": [
    "# ¡Llena ese carrito!"
   ]
  },
  {
   "cell_type": "markdown",
   "id": "mhIvmmkW414q",
   "metadata": {
    "id": "mhIvmmkW414q"
   },
   "source": [
    "# Introducción\n",
    "\n",
    "Instacart es una plataforma de entregas de comestibles donde la clientela puede registrar un pedido y hacer que se lo entreguen, similar a Uber Eats y Door Dash.\n",
    "El conjunto de datos que te hemos proporcionado tiene modificaciones del original. Redujimos el tamaño del conjunto para que tus cálculos se hicieran más rápido e introdujimos valores ausentes y duplicados. Tuvimos cuidado de conservar las distribuciones de los datos originales cuando hicimos los cambios.\n",
    "\n",
    "Debes completar tres pasos. Para cada uno de ellos, escribe una breve introducción que refleje con claridad cómo pretendes resolver cada paso, y escribe párrafos explicatorios que justifiquen tus decisiones al tiempo que avanzas en tu solución.  También escribe una conclusión que resuma tus hallazgos y elecciones.\n"
   ]
  },
  {
   "cell_type": "markdown",
   "id": "3MbyzpOQZ5Or",
   "metadata": {
    "id": "3MbyzpOQZ5Or"
   },
   "source": [
    "## Diccionario de datos\n",
    "\n",
    "Hay cinco tablas en el conjunto de datos, y tendrás que usarlas todas para hacer el preprocesamiento de datos y el análisis exploratorio de datos. A continuación se muestra un diccionario de datos que enumera las columnas de cada tabla y describe los datos que contienen.\n",
    "\n",
    "- `instacart_orders.csv`: cada fila corresponde a un pedido en la aplicación Instacart.\n",
    "    - `'order_id'`: número de ID que identifica de manera única cada pedido.\n",
    "    - `'user_id'`: número de ID que identifica de manera única la cuenta de cada cliente.\n",
    "    - `'order_number'`: el número de veces que este cliente ha hecho un pedido.\n",
    "    - `'order_dow'`: día de la semana en que se hizo el pedido (0 si es domingo).\n",
    "    - `'order_hour_of_day'`: hora del día en que se hizo el pedido.\n",
    "    - `'days_since_prior_order'`: número de días transcurridos desde que este cliente hizo su pedido anterior.\n",
    "- `products.csv`: cada fila corresponde a un producto único que pueden comprar los clientes.\n",
    "    - `'product_id'`: número ID que identifica de manera única cada producto.\n",
    "    - `'product_name'`: nombre del producto.\n",
    "    - `'aisle_id'`: número ID que identifica de manera única cada categoría de pasillo de víveres.\n",
    "    - `'department_id'`: número ID que identifica de manera única cada departamento de víveres.\n",
    "- `order_products.csv`: cada fila corresponde a un artículo pedido en un pedido.\n",
    "    - `'order_id'`: número de ID que identifica de manera única cada pedido.\n",
    "    - `'product_id'`: número ID que identifica de manera única cada producto.\n",
    "    - `'add_to_cart_order'`: el orden secuencial en el que se añadió cada artículo en el carrito.\n",
    "    - `'reordered'`: 0 si el cliente nunca ha pedido este producto antes, 1 si lo ha pedido.\n",
    "- `aisles.csv`\n",
    "    - `'aisle_id'`: número ID que identifica de manera única cada categoría de pasillo de víveres.\n",
    "    - `'aisle'`: nombre del pasillo.\n",
    "- `departments.csv`\n",
    "    - `'department_id'`: número ID que identifica de manera única cada departamento de víveres.\n",
    "    - `'department'`: nombre del departamento."
   ]
  },
  {
   "cell_type": "markdown",
   "id": "n3Ha_cNSZ8lK",
   "metadata": {
    "id": "n3Ha_cNSZ8lK"
   },
   "source": [
    "# Paso 1. Descripción de los datos\n",
    "\n",
    "Lee los archivos de datos (`/datasets/instacart_orders.csv`, `/datasets/products.csv`, `/datasets/aisles.csv`, `/datasets/departments.csv` y `/datasets/order_products.csv`) con `pd.read_csv()` usando los parámetros adecuados para leer los datos correctamente. Verifica la información para cada DataFrame creado.\n"
   ]
  },
  {
   "cell_type": "markdown",
   "id": "OmlQPLlyaAfR",
   "metadata": {
    "id": "OmlQPLlyaAfR"
   },
   "source": [
    "## Plan de solución\n",
    "\n",
    "Escribe aquí tu plan de solución para el Paso 1. Descripción de los datos."
   ]
  },
  {
   "cell_type": "code",
   "execution_count": 1,
   "id": "fbf1adab",
   "metadata": {
    "id": "fbf1adab"
   },
   "outputs": [],
   "source": [
    "import pandas as pd# importar librerías\n",
    "import numpy as np\n",
    "from matplotlib import pyplot as plt"
   ]
  },
  {
   "cell_type": "code",
   "execution_count": 2,
   "id": "ad36396d",
   "metadata": {
    "id": "ad36396d"
   },
   "outputs": [],
   "source": [
    "# leer conjuntos de datos en los DataFrames\n",
    "orders = pd.read_csv(\"/datasets/instacart_orders.csv\", sep= \";\")\n",
    "products = pd.read_csv(\"/datasets/products.csv\", sep = \";\")\n",
    "aisles = pd.read_csv(\"/datasets/aisles.csv\", sep = \";\")\n",
    "departments = pd.read_csv(\"/datasets/departments.csv\", sep = \";\")\n",
    "order_products = pd.read_csv(\"/datasets/order_products.csv\", sep = \";\")\n"
   ]
  },
  {
   "cell_type": "code",
   "execution_count": 3,
   "id": "ad6a1efa",
   "metadata": {
    "id": "ad6a1efa"
   },
   "outputs": [
    {
     "name": "stdout",
     "output_type": "stream",
     "text": [
      "<class 'pandas.core.frame.DataFrame'>\n",
      "RangeIndex: 478967 entries, 0 to 478966\n",
      "Data columns (total 6 columns):\n",
      " #   Column                  Non-Null Count   Dtype  \n",
      "---  ------                  --------------   -----  \n",
      " 0   order_id                478967 non-null  int64  \n",
      " 1   user_id                 478967 non-null  int64  \n",
      " 2   order_number            478967 non-null  int64  \n",
      " 3   order_dow               478967 non-null  int64  \n",
      " 4   order_hour_of_day       478967 non-null  int64  \n",
      " 5   days_since_prior_order  450148 non-null  float64\n",
      "dtypes: float64(1), int64(5)\n",
      "memory usage: 21.9 MB\n"
     ]
    }
   ],
   "source": [
    "orders.info()# mostrar información del DataFrame"
   ]
  },
  {
   "cell_type": "code",
   "execution_count": 4,
   "id": "5130e05e",
   "metadata": {
    "id": "5130e05e"
   },
   "outputs": [
    {
     "name": "stdout",
     "output_type": "stream",
     "text": [
      "<class 'pandas.core.frame.DataFrame'>\n",
      "RangeIndex: 49694 entries, 0 to 49693\n",
      "Data columns (total 4 columns):\n",
      " #   Column         Non-Null Count  Dtype \n",
      "---  ------         --------------  ----- \n",
      " 0   product_id     49694 non-null  int64 \n",
      " 1   product_name   48436 non-null  object\n",
      " 2   aisle_id       49694 non-null  int64 \n",
      " 3   department_id  49694 non-null  int64 \n",
      "dtypes: int64(3), object(1)\n",
      "memory usage: 1.5+ MB\n"
     ]
    }
   ],
   "source": [
    "products.info()# mostrar información del DataFrame"
   ]
  },
  {
   "cell_type": "code",
   "execution_count": 5,
   "id": "d8370c05",
   "metadata": {
    "id": "d8370c05"
   },
   "outputs": [
    {
     "name": "stdout",
     "output_type": "stream",
     "text": [
      "<class 'pandas.core.frame.DataFrame'>\n",
      "RangeIndex: 134 entries, 0 to 133\n",
      "Data columns (total 2 columns):\n",
      " #   Column    Non-Null Count  Dtype \n",
      "---  ------    --------------  ----- \n",
      " 0   aisle_id  134 non-null    int64 \n",
      " 1   aisle     134 non-null    object\n",
      "dtypes: int64(1), object(1)\n",
      "memory usage: 2.2+ KB\n"
     ]
    }
   ],
   "source": [
    "aisles.info()# mostrar información del DataFrame"
   ]
  },
  {
   "cell_type": "code",
   "execution_count": 6,
   "id": "59e2090f",
   "metadata": {
    "id": "59e2090f"
   },
   "outputs": [
    {
     "name": "stdout",
     "output_type": "stream",
     "text": [
      "<class 'pandas.core.frame.DataFrame'>\n",
      "RangeIndex: 21 entries, 0 to 20\n",
      "Data columns (total 2 columns):\n",
      " #   Column         Non-Null Count  Dtype \n",
      "---  ------         --------------  ----- \n",
      " 0   department_id  21 non-null     int64 \n",
      " 1   department     21 non-null     object\n",
      "dtypes: int64(1), object(1)\n",
      "memory usage: 464.0+ bytes\n"
     ]
    }
   ],
   "source": [
    "departments.info()# mostrar información del DataFrame"
   ]
  },
  {
   "cell_type": "code",
   "execution_count": 7,
   "id": "6fc81694",
   "metadata": {
    "id": "6fc81694"
   },
   "outputs": [
    {
     "name": "stdout",
     "output_type": "stream",
     "text": [
      "<class 'pandas.core.frame.DataFrame'>\n",
      "RangeIndex: 4545007 entries, 0 to 4545006\n",
      "Data columns (total 4 columns):\n",
      " #   Column             Non-Null Count    Dtype  \n",
      "---  ------             --------------    -----  \n",
      " 0   order_id           4545007 non-null  int64  \n",
      " 1   product_id         4545007 non-null  int64  \n",
      " 2   add_to_cart_order  4544171 non-null  float64\n",
      " 3   reordered          4545007 non-null  int64  \n",
      "dtypes: float64(1), int64(3)\n",
      "memory usage: 138.7 MB\n"
     ]
    }
   ],
   "source": [
    "order_products.info(show_counts=True)# mostrar información del DataFrame\n"
   ]
  },
  {
   "cell_type": "markdown",
   "id": "t75BD19oaR5f",
   "metadata": {
    "id": "t75BD19oaR5f"
   },
   "source": [
    "## Conclusiones\n",
    "\n",
    "Escribe aquí tus conclusiones intermedias sobre el Paso 1. Descripción de los datos.\n",
    "\n",
    "    En todos los datasets se pueden observar valores ausentes que deberán ser procesados, asì también existen tipos de datos que se deberán convertir antes de comenzar con el procesamiento de los mismos\n"
   ]
  },
  {
   "cell_type": "markdown",
   "id": "8RJHqxVmaVsF",
   "metadata": {
    "id": "8RJHqxVmaVsF"
   },
   "source": [
    "# Paso 2. Preprocesamiento de los datos\n",
    "\n",
    "Preprocesa los datos de la siguiente manera:\n",
    "\n",
    "- Verifica y corrige los tipos de datos (por ejemplo, asegúrate de que las columnas de ID sean números enteros).\n",
    "- Identifica y completa los valores ausentes.\n",
    "- Identifica y elimina los valores duplicados.\n",
    "\n",
    "Asegúrate de explicar qué tipos de valores ausentes y duplicados encontraste, cómo los completaste o eliminaste y por qué usaste esos métodos. ¿Por qué crees que estos valores ausentes y duplicados pueden haber estado presentes en el conjunto de datos?"
   ]
  },
  {
   "cell_type": "markdown",
   "id": "p6poABZQaZYb",
   "metadata": {
    "id": "p6poABZQaZYb"
   },
   "source": [
    "## Plan de solución\n",
    "\n",
    "Escribe aquí tu plan para el Paso 2. Preprocesamiento de los datos."
   ]
  },
  {
   "cell_type": "markdown",
   "id": "07357848-dc64-4156-9cc3-01ff4365226d",
   "metadata": {
    "id": "07357848-dc64-4156-9cc3-01ff4365226d"
   },
   "source": [
    "## Encuentra y elimina los valores duplicados (y describe cómo tomaste tus decisiones)."
   ]
  },
  {
   "cell_type": "markdown",
   "id": "f179f0a9",
   "metadata": {
    "id": "f179f0a9"
   },
   "source": [
    "### `orders` data frame"
   ]
  },
  {
   "cell_type": "code",
   "execution_count": 8,
   "id": "b99297a5-405a-463d-8535-9adc3da4ad74",
   "metadata": {
    "id": "b99297a5-405a-463d-8535-9adc3da4ad74"
   },
   "outputs": [
    {
     "name": "stdout",
     "output_type": "stream",
     "text": [
      "El total de pedidos duplicados es: 15\n",
      "\n",
      "        order_id  user_id  order_number  order_dow  order_hour_of_day  \\\n",
      "145574    794638    50898            24          3                  2   \n",
      "223105   2160484   107525            16          3                  2   \n",
      "230807   1918001   188546            14          3                  2   \n",
      "266232   1782114   106752             1          3                  2   \n",
      "273805   1112182   202304            84          3                  2   \n",
      "284038   2845099    31189            11          3                  2   \n",
      "311713   1021560    53767             3          3                  2   \n",
      "321100    408114    68324             4          3                  2   \n",
      "323900   1919531   191501            32          3                  2   \n",
      "345917   2232988    82565             1          3                  2   \n",
      "371905    391768    57671            19          3                  2   \n",
      "394347    467134    63189            21          3                  2   \n",
      "411408   1286742   183220            48          3                  2   \n",
      "415163   2282673    86751            49          3                  2   \n",
      "441599   2125197    14050            48          3                  2   \n",
      "\n",
      "        days_since_prior_order  \n",
      "145574                     2.0  \n",
      "223105                    30.0  \n",
      "230807                    16.0  \n",
      "266232                     NaN  \n",
      "273805                     6.0  \n",
      "284038                     7.0  \n",
      "311713                     9.0  \n",
      "321100                    18.0  \n",
      "323900                     7.0  \n",
      "345917                     NaN  \n",
      "371905                    10.0  \n",
      "394347                     2.0  \n",
      "411408                     4.0  \n",
      "415163                     2.0  \n",
      "441599                     3.0  \n"
     ]
    }
   ],
   "source": [
    "print(f\"El total de pedidos duplicados es: {orders.duplicated().sum()}\")# Revisa si hay pedidos duplicados\n",
    "print()\n",
    "print(orders[orders.duplicated()]) #impime duplicados del dataframe orders\n"
   ]
  },
  {
   "cell_type": "markdown",
   "id": "PEkwUX_gvt5A",
   "metadata": {
    "id": "PEkwUX_gvt5A"
   },
   "source": [
    "¿Tienes líneas duplicadas? Si sí, ¿qué tienen en común?\n",
    "\n",
    "    Existen 15 lineas duplicadas, y todas aquellas órdenes fueron realizadas el mismo día y a la misma hora."
   ]
  },
  {
   "cell_type": "code",
   "execution_count": 9,
   "id": "0d44de5d",
   "metadata": {
    "id": "0d44de5d"
   },
   "outputs": [
    {
     "name": "stdout",
     "output_type": "stream",
     "text": [
      "        order_id  order_hour_of_day\n",
      "145      1373529                  2\n",
      "169      3129415                  2\n",
      "894      2672805                  2\n",
      "950       284735                  2\n",
      "1260     2537018                  2\n",
      "...          ...                ...\n",
      "477526   2592344                  2\n",
      "477624   1448965                  2\n",
      "477920   2668224                  2\n",
      "478126    852233                  2\n",
      "478321   1629284                  2\n",
      "\n",
      "[1004 rows x 2 columns]\n"
     ]
    }
   ],
   "source": [
    "# Basándote en tus hallazgos,\n",
    "# Verifica todos los pedidos que se hicieron el miércoles a las 2:00 a.m.\n",
    "\n",
    "print(orders.query(\"order_hour_of_day == 2\")[[\"order_id\",\"order_hour_of_day\"]]) #filtrado por hora del día\n"
   ]
  },
  {
   "cell_type": "markdown",
   "id": "vu2OWyoqwOx5",
   "metadata": {
    "id": "vu2OWyoqwOx5"
   },
   "source": [
    "¿Qué sugiere este resultado?\n",
    "    A las 2:00 de la mañana se registraron un total de 1004 pedidos"
   ]
  },
  {
   "cell_type": "code",
   "execution_count": 10,
   "id": "480563c7",
   "metadata": {
    "id": "480563c7"
   },
   "outputs": [],
   "source": [
    "orders = orders.drop_duplicates()# Elimina los pedidos duplicados\n"
   ]
  },
  {
   "cell_type": "code",
   "execution_count": 11,
   "id": "0b2396a2",
   "metadata": {
    "id": "0b2396a2"
   },
   "outputs": [
    {
     "name": "stdout",
     "output_type": "stream",
     "text": [
      "El total de filas duplicadas es: 0\n"
     ]
    }
   ],
   "source": [
    "print(f\"El total de filas duplicadas es: {orders.duplicated().sum()}\")# Vuelve a verificar si hay filas duplicadas\n"
   ]
  },
  {
   "cell_type": "code",
   "execution_count": 12,
   "id": "f6113ef1",
   "metadata": {
    "id": "f6113ef1"
   },
   "outputs": [
    {
     "name": "stdout",
     "output_type": "stream",
     "text": [
      "Empty DataFrame\n",
      "Columns: [order_id, user_id, order_number, order_dow, order_hour_of_day, days_since_prior_order]\n",
      "Index: []\n"
     ]
    }
   ],
   "source": [
    "print(orders[orders[\"order_id\"].duplicated()])# Vuelve a verificar únicamente si hay IDs duplicados de pedidos\n"
   ]
  },
  {
   "cell_type": "markdown",
   "id": "e1d189b2",
   "metadata": {},
   "source": [
    "<div class=\"alert alert-block alert-success\">\n",
    "<b>Comentario del revisor</b> <a class=\"tocSkip\"></a>\n",
    "\n",
    "Muy buen trabajo!! Desarrollaste de manera excelente el análisis de duplicados y eliminaste esos casos. \n",
    "    \n",
    "</div>"
   ]
  },
  {
   "cell_type": "markdown",
   "id": "5e8905ae",
   "metadata": {
    "id": "5e8905ae"
   },
   "source": [
    "Describe brevemente tus hallazgos y lo que hiciste con ellos\n",
    "\n",
    "    Se encontraron órdenes de pedidos duplicadas, para ser exactos, 15, por lo cual se procede con la eliminación de estos datos para evitar errores en los resultados posteriores."
   ]
  },
  {
   "cell_type": "markdown",
   "id": "45e6bc46",
   "metadata": {
    "id": "45e6bc46"
   },
   "source": [
    "### `products` data frame"
   ]
  },
  {
   "cell_type": "code",
   "execution_count": 13,
   "id": "5f526b5b-8175-46fa-a0fd-441767d50e64",
   "metadata": {
    "id": "5f526b5b-8175-46fa-a0fd-441767d50e64"
   },
   "outputs": [
    {
     "name": "stdout",
     "output_type": "stream",
     "text": [
      "Empty DataFrame\n",
      "Columns: [product_id, product_name, aisle_id, department_id]\n",
      "Index: []\n"
     ]
    }
   ],
   "source": [
    "print(products[products.duplicated()])# Verifica si hay filas totalmente duplicadas\n"
   ]
  },
  {
   "cell_type": "code",
   "execution_count": 14,
   "id": "88daa4f4",
   "metadata": {
    "id": "88daa4f4"
   },
   "outputs": [
    {
     "name": "stdout",
     "output_type": "stream",
     "text": [
      "       product_id                                     product_name  aisle_id  \\\n",
      "4               5                        Green Chile Anytime Sauce         5   \n",
      "6               7                   Pure Coconut Water With Orange        98   \n",
      "7               8                Cut Russet Potatoes Steam N' Mash       116   \n",
      "9              10   Sparkling Orange Juice & Prickly Pear Beverage       115   \n",
      "10             11                                Peach Mango Juice        31   \n",
      "...           ...                                              ...       ...   \n",
      "49689       49690                    HIGH PERFORMANCE ENERGY DRINK        64   \n",
      "49690       49691                    ORIGINAL PANCAKE & WAFFLE MIX       130   \n",
      "49691       49692  ORGANIC INSTANT OATMEAL LIGHT MAPLE BROWN SUGAR       130   \n",
      "49692       49693                           SPRING WATER BODY WASH       127   \n",
      "49693       49694                          BURRITO- STEAK & CHEESE        38   \n",
      "\n",
      "       department_id  \n",
      "4                 13  \n",
      "6                  7  \n",
      "7                  1  \n",
      "9                  7  \n",
      "10                 7  \n",
      "...              ...  \n",
      "49689              7  \n",
      "49690             14  \n",
      "49691             14  \n",
      "49692             11  \n",
      "49693              1  \n",
      "\n",
      "[49673 rows x 4 columns]\n"
     ]
    }
   ],
   "source": [
    "print(products[products[\"department_id\"].duplicated()])# Revisa únicamente si hay ID de departamentos duplicados\n"
   ]
  },
  {
   "cell_type": "code",
   "execution_count": 15,
   "id": "c773f0bf",
   "metadata": {
    "id": "c773f0bf"
   },
   "outputs": [
    {
     "data": {
      "text/plain": [
       "71                                                   NaN\n",
       "109                                                  NaN\n",
       "296                                                  NaN\n",
       "416                                                  NaN\n",
       "436                                                  NaN\n",
       "                              ...                       \n",
       "49689                      HIGH PERFORMANCE ENERGY DRINK\n",
       "49690                      ORIGINAL PANCAKE & WAFFLE MIX\n",
       "49691    ORGANIC INSTANT OATMEAL LIGHT MAPLE BROWN SUGAR\n",
       "49692                             SPRING WATER BODY WASH\n",
       "49693                            BURRITO- STEAK & CHEESE\n",
       "Name: product_name, Length: 1361, dtype: object"
      ]
     },
     "execution_count": 15,
     "metadata": {},
     "output_type": "execute_result"
    }
   ],
   "source": [
    "products_upper = products[\"product_name\"].str.upper()# Revisa únicamente si hay nombres duplicados de productos (convierte los nombres a letras mayúsculas para compararlos mejor)\n",
    "products_duplicated = products_upper[products_upper.duplicated()]\n",
    "products_duplicated\n"
   ]
  },
  {
   "cell_type": "markdown",
   "id": "e0f3071d",
   "metadata": {},
   "source": [
    "<div class=\"alert alert-block alert-danger\">\n",
    "<b>Comentario revisor</b> <a class=\"tocSkip\"></a>\n",
    "\n",
    "\n",
    "Te recomiendo verificar que estamos conviertiendo a letras mayusculas y guardandolo en la variable de interes. Para cuando analicemos los duplicados sea con la variable transformada a mayusculas.\n",
    "</div>"
   ]
  },
  {
   "cell_type": "markdown",
   "id": "0bdfbaa7",
   "metadata": {},
   "source": [
    "<div class=\"alert alert-block alert-info\">\n",
    "<b>Respuesta del estudiante.</b> <a class=\"tocSkip\"></a>\n",
    "    \n",
    "Se corrige el código de acuerdo a la recomendación del revisor para guardar la variable de interés que luego se usa para analizar los duplicados\n",
    "</div>"
   ]
  },
  {
   "cell_type": "code",
   "execution_count": 16,
   "id": "01efd02e",
   "metadata": {
    "id": "01efd02e"
   },
   "outputs": [
    {
     "name": "stdout",
     "output_type": "stream",
     "text": [
      "       product_id                                       product_name  \\\n",
      "1               2                                   All-Seasons Salt   \n",
      "2               3               Robust Golden Unsweetened Oolong Tea   \n",
      "3               4  Smart Ones Classic Favorites Mini Rigatoni Wit...   \n",
      "4               5                          Green Chile Anytime Sauce   \n",
      "5               6                                       Dry Nose Oil   \n",
      "...           ...                                                ...   \n",
      "49689       49690                      HIGH PERFORMANCE ENERGY DRINK   \n",
      "49690       49691                      ORIGINAL PANCAKE & WAFFLE MIX   \n",
      "49691       49692    ORGANIC INSTANT OATMEAL LIGHT MAPLE BROWN SUGAR   \n",
      "49692       49693                             SPRING WATER BODY WASH   \n",
      "49693       49694                            BURRITO- STEAK & CHEESE   \n",
      "\n",
      "       aisle_id  department_id  \n",
      "1           104             13  \n",
      "2            94              7  \n",
      "3            38              1  \n",
      "4             5             13  \n",
      "5            11             11  \n",
      "...         ...            ...  \n",
      "49689        64              7  \n",
      "49690       130             14  \n",
      "49691       130             14  \n",
      "49692       127             11  \n",
      "49693        38              1  \n",
      "\n",
      "[49692 rows x 4 columns]\n"
     ]
    }
   ],
   "source": [
    "print(products[products[\"product_name\"].str.upper().isna().duplicated()])# Revisa si hay nombres duplicados de productos no faltantes\n"
   ]
  },
  {
   "cell_type": "markdown",
   "id": "9da8d293",
   "metadata": {
    "id": "9da8d293"
   },
   "source": [
    "Describe brevemente tus hallazgos y lo que hiciste con ellos.\n",
    "\n",
    "    Luego del análisis del dataset se pudo evidenciar que no existen filas completas duplicadas por lo que no hubo la necesidad de eliminar ninguna, por otro lado existen valores duplicados en los campos de product_name y department_id pero es normal ya que los usuarios ordenarán varias veces determinados productos que pertenecen a esos campos."
   ]
  },
  {
   "cell_type": "markdown",
   "id": "60f30db1",
   "metadata": {
    "id": "60f30db1"
   },
   "source": [
    "### `departments` data frame"
   ]
  },
  {
   "cell_type": "code",
   "execution_count": 17,
   "id": "fb410ad4-0fbf-4b80-bb09-23fdea79afe3",
   "metadata": {
    "id": "fb410ad4-0fbf-4b80-bb09-23fdea79afe3"
   },
   "outputs": [
    {
     "name": "stdout",
     "output_type": "stream",
     "text": [
      "Total de filas duplicadas: 0\n"
     ]
    }
   ],
   "source": [
    "print(f\"Total de filas duplicadas: {departments.duplicated().sum()}\")# Revisa si hay filas totalmente duplicadas\n"
   ]
  },
  {
   "cell_type": "code",
   "execution_count": 18,
   "id": "332b12bb",
   "metadata": {
    "id": "332b12bb"
   },
   "outputs": [
    {
     "name": "stdout",
     "output_type": "stream",
     "text": [
      "<class 'pandas.core.frame.DataFrame'>\n",
      "RangeIndex: 21 entries, 0 to 20\n",
      "Data columns (total 2 columns):\n",
      " #   Column         Non-Null Count  Dtype \n",
      "---  ------         --------------  ----- \n",
      " 0   department_id  21 non-null     int64 \n",
      " 1   department     21 non-null     object\n",
      "dtypes: int64(1), object(1)\n",
      "memory usage: 464.0+ bytes\n"
     ]
    }
   ],
   "source": [
    "departments.info()# Revisa únicamente si hay IDs duplicadas de productos"
   ]
  },
  {
   "cell_type": "markdown",
   "id": "e2bdf42e",
   "metadata": {},
   "source": [
    "<div class=\"alert alert-block alert-danger\">\n",
    "<b>Comentario revisor</b> <a class=\"tocSkip\"></a>\n",
    "\n",
    "\n",
    "Hola, Marco! Solamente verifica que cuentas con la variable \"product_id\".\n",
    "</div>"
   ]
  },
  {
   "cell_type": "markdown",
   "id": "957fb2f6",
   "metadata": {},
   "source": [
    "<div class=\"alert alert-block alert-info\">\n",
    "<b>Respuesta del estudiante.</b> <a class=\"tocSkip\"></a>\n",
    "    \n",
    "De acuerdo con el comentario del revisor, usando el metodo .info, se verifica que la variable \"product_id\" no existe en el dataframe\n",
    "</div>"
   ]
  },
  {
   "cell_type": "markdown",
   "id": "bd30d78e",
   "metadata": {
    "id": "bd30d78e"
   },
   "source": [
    "Describe brevemente tus hallazgos y lo que hiciste con ellos.\n",
    "\n",
    "    Brevemente se pudo observar que no existen filas totalmente duplicadas y que el dataset no contiene el campo product_id para determinar si existen o no duplicados, es por eso que el resultado del código que pretende hacer este filtrado arroja un error."
   ]
  },
  {
   "cell_type": "markdown",
   "id": "889349c1",
   "metadata": {
    "id": "889349c1"
   },
   "source": [
    "### `aisles` data frame"
   ]
  },
  {
   "cell_type": "code",
   "execution_count": 19,
   "id": "9da89fb9-4679-40f5-ad0d-c34df753a3f8",
   "metadata": {
    "id": "9da89fb9-4679-40f5-ad0d-c34df753a3f8"
   },
   "outputs": [
    {
     "name": "stdout",
     "output_type": "stream",
     "text": [
      "La cantidad de filas totalmente duplicadas es: 0\n"
     ]
    }
   ],
   "source": [
    "print(f\"La cantidad de filas totalmente duplicadas es: {aisles.duplicated().sum()}\")# Revisa si hay filas totalmente duplicadas"
   ]
  },
  {
   "cell_type": "code",
   "execution_count": 20,
   "id": "da7c2822",
   "metadata": {
    "id": "da7c2822"
   },
   "outputs": [
    {
     "name": "stdout",
     "output_type": "stream",
     "text": [
      "<class 'pandas.core.frame.DataFrame'>\n",
      "RangeIndex: 134 entries, 0 to 133\n",
      "Data columns (total 2 columns):\n",
      " #   Column    Non-Null Count  Dtype \n",
      "---  ------    --------------  ----- \n",
      " 0   aisle_id  134 non-null    int64 \n",
      " 1   aisle     134 non-null    object\n",
      "dtypes: int64(1), object(1)\n",
      "memory usage: 2.2+ KB\n"
     ]
    }
   ],
   "source": [
    "aisles.info()# Revisa únicamente si hay IDs duplicadas de productos"
   ]
  },
  {
   "cell_type": "markdown",
   "id": "ac63826f",
   "metadata": {
    "id": "ac63826f"
   },
   "source": [
    "Describe brevemente tus hallazgos y lo que hiciste con ellos.\n",
    "\n",
    "    Al igual que con el dataset departments, este tampoco tiene filas totalmente duplicadas y no se puede localicar el product_id porque no existe."
   ]
  },
  {
   "cell_type": "markdown",
   "id": "274cd06a",
   "metadata": {
    "id": "274cd06a"
   },
   "source": [
    "### `order_products` data frame"
   ]
  },
  {
   "cell_type": "code",
   "execution_count": 21,
   "id": "52326689-84a8-4b8f-a881-7c68780f62c9",
   "metadata": {
    "id": "52326689-84a8-4b8f-a881-7c68780f62c9"
   },
   "outputs": [
    {
     "name": "stdout",
     "output_type": "stream",
     "text": [
      "La cantidad de filas totalmente duplicadas es: 0\n"
     ]
    }
   ],
   "source": [
    "print(f\"La cantidad de filas totalmente duplicadas es: {order_products.duplicated().sum()}\")# Revisa si hay filas totalmente duplicadas\n"
   ]
  },
  {
   "cell_type": "code",
   "execution_count": 22,
   "id": "7b861391",
   "metadata": {
    "id": "7b861391"
   },
   "outputs": [
    {
     "name": "stdout",
     "output_type": "stream",
     "text": [
      "Duplicados en columna order_id: 4094961\n",
      "\n",
      "Duplicados en columna product_id: 4499434\n"
     ]
    }
   ],
   "source": [
    "print(f\"Duplicados en columna order_id: {order_products['order_id'].duplicated().sum()}\")# Vuelve a verificar si hay cualquier otro duplicado engañoso\n",
    "print()\n",
    "print(f\"Duplicados en columna product_id: {order_products['product_id'].duplicated().sum()}\")# Vuelve a verificar si hay cualquier otro duplicado engañoso\n",
    "\n"
   ]
  },
  {
   "cell_type": "markdown",
   "id": "0b890492",
   "metadata": {
    "id": "0b890492"
   },
   "source": [
    "Describe brevemente tus hallazgos y lo que hiciste con ellos.\n",
    "\n",
    "    De la revisión realizada, no existen filas completamente duplicadas, sin embargo los campos de order_id y product_id podrian indicar que existen duplicados pero esto es normal, ya que en un sólo pedido podemos tener varios productos con el mismo order_id, asi mismo, muchas órdenes de compra incluirán muchos productos que se repitan entre si, por tanto no debemos manipular esta información."
   ]
  },
  {
   "cell_type": "markdown",
   "id": "1e46de76",
   "metadata": {
    "id": "1e46de76"
   },
   "source": [
    "## Encuentra y elimina los valores ausentes\n",
    "\n",
    "Al trabajar con valores duplicados, pudimos observar que también nos falta investigar valores ausentes:\n",
    "\n",
    "* La columna `'product_name'` de la tabla products.\n",
    "* La columna `'days_since_prior_order'` de la tabla orders.\n",
    "* La columna `'add_to_cart_order'` de la tabla order_productos."
   ]
  },
  {
   "cell_type": "markdown",
   "id": "c0aebd78",
   "metadata": {
    "id": "c0aebd78"
   },
   "source": [
    "### `products` data frame"
   ]
  },
  {
   "cell_type": "code",
   "execution_count": 23,
   "id": "fe4a8b0f",
   "metadata": {
    "id": "fe4a8b0f"
   },
   "outputs": [
    {
     "name": "stdout",
     "output_type": "stream",
     "text": [
      "       product_id product_name  aisle_id  department_id\n",
      "37             38          NaN       100             21\n",
      "71             72          NaN       100             21\n",
      "109           110          NaN       100             21\n",
      "296           297          NaN       100             21\n",
      "416           417          NaN       100             21\n",
      "...           ...          ...       ...            ...\n",
      "49552       49553          NaN       100             21\n",
      "49574       49575          NaN       100             21\n",
      "49640       49641          NaN       100             21\n",
      "49663       49664          NaN       100             21\n",
      "49668       49669          NaN       100             21\n",
      "\n",
      "[1258 rows x 4 columns]\n"
     ]
    }
   ],
   "source": [
    "print(products[products[\"product_name\"].isna()])# Encuentra los valores ausentes en la columna 'product_name'"
   ]
  },
  {
   "cell_type": "markdown",
   "id": "-A6x1AbJhjkp",
   "metadata": {
    "id": "-A6x1AbJhjkp"
   },
   "source": [
    "Describe brevemente cuáles son tus hallazgos.\n",
    "\n",
    "    Existen 1258 productos con valores ausentes"
   ]
  },
  {
   "cell_type": "code",
   "execution_count": 24,
   "id": "e96167bc",
   "metadata": {
    "id": "e96167bc"
   },
   "outputs": [
    {
     "name": "stdout",
     "output_type": "stream",
     "text": [
      "100.0\n"
     ]
    }
   ],
   "source": [
    "#  ¿Todos los nombres de productos ausentes están relacionados con el pasillo con ID 100?\n",
    "\n",
    "aisle100 = products[products[\"product_name\"].isna()] #almacena los valores ausentes\n",
    "print(aisle100[\"aisle_id\"].mean()) #calcula el promedio de los valores de la columna aisle_id"
   ]
  },
  {
   "cell_type": "markdown",
   "id": "WRpIfXRphpSL",
   "metadata": {
    "id": "WRpIfXRphpSL"
   },
   "source": [
    "Describe brevemente cuáles son tus hallazgos.\n",
    "\n",
    "    Es correcto, todos los nombres de los productos faltantes están relacionados con el pasillo 100."
   ]
  },
  {
   "cell_type": "code",
   "execution_count": 25,
   "id": "8fd0a541",
   "metadata": {
    "id": "8fd0a541"
   },
   "outputs": [
    {
     "name": "stdout",
     "output_type": "stream",
     "text": [
      "21.0\n"
     ]
    }
   ],
   "source": [
    "# ¿Todos los nombres de productos ausentes están relacionados con el departamento con ID 21?\n",
    "\n",
    "id21 = products[products[\"product_name\"].isna()] #almacena los valores ausentes\n",
    "print(id21[\"department_id\"].mean()) #calcula el promedio de los valores de la columna department_id"
   ]
  },
  {
   "cell_type": "markdown",
   "id": "qDpdYn1Fht_I",
   "metadata": {
    "id": "qDpdYn1Fht_I"
   },
   "source": [
    "Describe brevemente cuáles son tus hallazgos.\n",
    "\n",
    "    También en cierto que todos los nombres de los productos ausentes están relacionados con el ID 21."
   ]
  },
  {
   "cell_type": "code",
   "execution_count": 26,
   "id": "325c3464",
   "metadata": {
    "id": "325c3464"
   },
   "outputs": [
    {
     "name": "stdout",
     "output_type": "stream",
     "text": [
      "department_id         21\n",
      "department       missing\n",
      "Name: 20, dtype: object\n",
      "\n",
      "aisle_id        100\n",
      "aisle       missing\n",
      "Name: 99, dtype: object\n"
     ]
    }
   ],
   "source": [
    "# Usa las tablas department y aisle para revisar los datos del pasillo con ID 100 y el departamento con ID 21.\n",
    "\n",
    "print(departments.loc[20]) #localiza los valores del department_id 21\n",
    "print()\n",
    "print(aisles.loc[99]) #localiza los valores del aisle_id 100\n"
   ]
  },
  {
   "cell_type": "markdown",
   "id": "nqhSTUPhhvEJ",
   "metadata": {
    "id": "nqhSTUPhhvEJ"
   },
   "source": [
    "Describe brevemente cuáles son tus hallazgos.\n",
    "\n",
    "    Tanto el ID del departamento 21 como el ID del pasillo 100 muestra que existe información catalogada como faltante (missing)"
   ]
  },
  {
   "cell_type": "code",
   "execution_count": 27,
   "id": "6b295120",
   "metadata": {
    "id": "6b295120"
   },
   "outputs": [
    {
     "name": "stdout",
     "output_type": "stream",
     "text": [
      "<class 'pandas.core.frame.DataFrame'>\n",
      "RangeIndex: 49694 entries, 0 to 49693\n",
      "Data columns (total 4 columns):\n",
      " #   Column         Non-Null Count  Dtype \n",
      "---  ------         --------------  ----- \n",
      " 0   product_id     49694 non-null  int64 \n",
      " 1   product_name   49694 non-null  object\n",
      " 2   aisle_id       49694 non-null  int64 \n",
      " 3   department_id  49694 non-null  int64 \n",
      "dtypes: int64(3), object(1)\n",
      "memory usage: 1.5+ MB\n"
     ]
    }
   ],
   "source": [
    "# Completa los nombres de productos ausentes con 'Unknown'\n",
    "\n",
    "products[\"product_name\"] = products[\"product_name\"].fillna(\"Unknown\") #reemplaza los valores ausentes por \"Unknown\"\n",
    "\n",
    "products.info()\n"
   ]
  },
  {
   "cell_type": "markdown",
   "id": "fc70e5ad",
   "metadata": {
    "id": "fc70e5ad"
   },
   "source": [
    "Describe brevemente tus hallazgos y lo que hiciste con ellos.\n",
    "\n",
    "    En la columna product_name se encontraron valores ausentes que fueron reemplazados con \"Unknown\", luego al aplicar método info al dataframe products, se puede observar que ya no existen valores ausentes."
   ]
  },
  {
   "cell_type": "markdown",
   "id": "7eb45c86",
   "metadata": {
    "id": "7eb45c86"
   },
   "source": [
    "### `orders` data frame"
   ]
  },
  {
   "cell_type": "code",
   "execution_count": 28,
   "id": "93e41d96",
   "metadata": {
    "id": "93e41d96"
   },
   "outputs": [
    {
     "name": "stdout",
     "output_type": "stream",
     "text": [
      "<class 'pandas.core.frame.DataFrame'>\n",
      "Int64Index: 478952 entries, 0 to 478966\n",
      "Data columns (total 6 columns):\n",
      " #   Column                  Non-Null Count   Dtype  \n",
      "---  ------                  --------------   -----  \n",
      " 0   order_id                478952 non-null  int64  \n",
      " 1   user_id                 478952 non-null  int64  \n",
      " 2   order_number            478952 non-null  int64  \n",
      " 3   order_dow               478952 non-null  int64  \n",
      " 4   order_hour_of_day       478952 non-null  int64  \n",
      " 5   days_since_prior_order  450135 non-null  float64\n",
      "dtypes: float64(1), int64(5)\n",
      "memory usage: 25.6 MB\n",
      "\n",
      "Existen valores ausentes en el campo 'days_since_prior_order':\n",
      "\n",
      "        order_id  user_id  order_number  order_dow  order_hour_of_day  \\\n",
      "28        133707   182261             1          3                 10   \n",
      "96        787445    25685             1          6                 18   \n",
      "100       294410   111449             1          0                 19   \n",
      "103      2869915   123958             1          4                 16   \n",
      "104      2521921    42286             1          3                 18   \n",
      "...          ...      ...           ...        ...                ...   \n",
      "478895   2589657   205028             1          0                 16   \n",
      "478896   2222353   141211             1          2                 13   \n",
      "478922   2272807   204154             1          1                 15   \n",
      "478926   2499542    68810             1          4                 19   \n",
      "478945   1387033    22496             1          5                 14   \n",
      "\n",
      "        days_since_prior_order  \n",
      "28                         NaN  \n",
      "96                         NaN  \n",
      "100                        NaN  \n",
      "103                        NaN  \n",
      "104                        NaN  \n",
      "...                        ...  \n",
      "478895                     NaN  \n",
      "478896                     NaN  \n",
      "478922                     NaN  \n",
      "478926                     NaN  \n",
      "478945                     NaN  \n",
      "\n",
      "[28817 rows x 6 columns]\n"
     ]
    }
   ],
   "source": [
    "# Encuentra los valores ausentes\n",
    "orders.info()\n",
    "print()\n",
    "print(f\"Existen valores ausentes en el campo 'days_since_prior_order':\")\n",
    "print()\n",
    "print(orders[orders[\"days_since_prior_order\"].isna()]) #muestra los valores ausentes del campo 'days_since_prior_order'"
   ]
  },
  {
   "cell_type": "code",
   "execution_count": 29,
   "id": "166e5a86",
   "metadata": {
    "id": "166e5a86"
   },
   "outputs": [
    {
     "name": "stdout",
     "output_type": "stream",
     "text": [
      "<class 'pandas.core.frame.DataFrame'>\n",
      "Int64Index: 478952 entries, 0 to 478966\n",
      "Data columns (total 6 columns):\n",
      " #   Column                  Non-Null Count   Dtype  \n",
      "---  ------                  --------------   -----  \n",
      " 0   order_id                478952 non-null  int64  \n",
      " 1   user_id                 478952 non-null  int64  \n",
      " 2   order_number            478952 non-null  int64  \n",
      " 3   order_dow               478952 non-null  int64  \n",
      " 4   order_hour_of_day       478952 non-null  int64  \n",
      " 5   days_since_prior_order  450135 non-null  float64\n",
      "dtypes: float64(1), int64(5)\n",
      "memory usage: 25.6 MB\n"
     ]
    }
   ],
   "source": [
    "# ¿Hay algún valor ausente que no sea el primer pedido del cliente?\n",
    "\n",
    "orders.info()\n"
   ]
  },
  {
   "cell_type": "markdown",
   "id": "4e23d089",
   "metadata": {
    "id": "4e23d089"
   },
   "source": [
    "Describe brevemente tus hallazgos y lo que hiciste con ellos.\n",
    "\n",
    "    Aplicando el método info al dataframe orders, se puede ver que únicamente el campo \"days_since_prior_order\" posee valores ausentes."
   ]
  },
  {
   "cell_type": "markdown",
   "id": "69dc9ca4",
   "metadata": {
    "id": "69dc9ca4"
   },
   "source": [
    "### `order_products` data frame"
   ]
  },
  {
   "cell_type": "code",
   "execution_count": 30,
   "id": "b8240253",
   "metadata": {
    "id": "b8240253"
   },
   "outputs": [
    {
     "data": {
      "text/plain": [
       "order_id               0\n",
       "product_id             0\n",
       "add_to_cart_order    836\n",
       "reordered              0\n",
       "dtype: int64"
      ]
     },
     "execution_count": 30,
     "metadata": {},
     "output_type": "execute_result"
    }
   ],
   "source": [
    "# Encuentra los valores ausentes\n",
    "order_products.isna().sum() #muestra los valores ausentes del campo \"add_to_cart_order\""
   ]
  },
  {
   "cell_type": "code",
   "execution_count": 31,
   "id": "9a78e5ee",
   "metadata": {
    "id": "9a78e5ee"
   },
   "outputs": [
    {
     "name": "stdout",
     "output_type": "stream",
     "text": [
      "El valor mínimo de la columna 'add_to_cart_order' es: 1.0\n",
      "\n",
      "El valor máximo de la columna 'add_to_cart_order' es: 64.0\n"
     ]
    }
   ],
   "source": [
    "# ¿Cuáles son los valores mínimos y máximos en esta columna?\n",
    "print(f\"El valor mínimo de la columna 'add_to_cart_order' es: {order_products['add_to_cart_order'].min()}\") #muestra el valor mínimo de 'add_to_cart_order' \n",
    "print()\n",
    "print(f\"El valor máximo de la columna 'add_to_cart_order' es: {order_products['add_to_cart_order'].max()}\") #muestra el valor máximo de 'add_to_cart_order'"
   ]
  },
  {
   "cell_type": "markdown",
   "id": "-Z2Ja215jW78",
   "metadata": {
    "id": "-Z2Ja215jW78"
   },
   "source": [
    "Describe brevemente cuáles son tus hallazgos.\n",
    "\n",
    "    Obteniendo el valor mínimo y máximo del campo \"add_to_cart_order\", pudimos determinar los usuarios realizaron compras en una misma orden, de al menos 1 producto y máximo 64 productos."
   ]
  },
  {
   "cell_type": "code",
   "execution_count": 32,
   "id": "ab9d0c2b",
   "metadata": {
    "id": "ab9d0c2b"
   },
   "outputs": [
    {
     "data": {
      "text/plain": [
       "737        2449164\n",
       "9926       1968313\n",
       "14394      2926893\n",
       "16418      1717990\n",
       "30114      1959075\n",
       "            ...   \n",
       "4505662    1800005\n",
       "4511400    1633337\n",
       "4517562     404157\n",
       "4534112    1673227\n",
       "4535739    1832957\n",
       "Name: order_id, Length: 836, dtype: int64"
      ]
     },
     "execution_count": 32,
     "metadata": {},
     "output_type": "execute_result"
    }
   ],
   "source": [
    "# Guarda todas las IDs de pedidos que tengan un valor ausente en 'add_to_cart_order'\n",
    "\n",
    "\n",
    "idnan = order_products[order_products[\"add_to_cart_order\"].isna()][\"order_id\"] #filtra por valores ausentes en \"add_to_cart_order\"\n",
    "idnan"
   ]
  },
  {
   "cell_type": "markdown",
   "id": "2537c354",
   "metadata": {},
   "source": [
    "<div class=\"alert alert-block alert-danger\">\n",
    "\n",
    "<b>Comentario revisor</b> <a class=\"tocSkip\"></a>\n",
    "\n",
    "En este paso consdiera solamente los IDs de pedidos que tengan un valor ausente en 'add_to_cart_order' que identificaste en el paso anterior y calcules la cantidad agrupada de cada \"order_id\". \n",
    "\n",
    "</div>"
   ]
  },
  {
   "cell_type": "markdown",
   "id": "67c1133c",
   "metadata": {},
   "source": [
    "<div class=\"alert alert-block alert-info\">\n",
    "<b>Respuesta del estudiante.</b> <a class=\"tocSkip\"></a>\n",
    "    \n",
    "Siguiendo las recomendaciones del revisor, se corrige el código para agrupar los IDs de pedidos con valor ausente en \"add_to_cart_order\", para obtener la cantidad de productos de estas órdenes.\n",
    "</div>"
   ]
  },
  {
   "cell_type": "code",
   "execution_count": 33,
   "id": "54c31695",
   "metadata": {
    "id": "54c31695"
   },
   "outputs": [
    {
     "name": "stdout",
     "output_type": "stream",
     "text": [
      "La cantidad mínima de productos en una orden es: 65\n"
     ]
    }
   ],
   "source": [
    "# ¿Todos los pedidos con valores ausentes tienen más de 64 productos?\n",
    "# Agrupa todos los pedidos con datos ausentes por su ID de pedido.\n",
    "# Cuenta el número de 'product_id' en cada pedido y revisa el valor mínimo del conteo.\n",
    "\n",
    "idnan_group = order_products[order_products[\"order_id\"].isin(idnan)] #agrupa pedidos con valores ausentes en add_to_cart_order\n",
    "idnan_count = idnan_group.groupby(\"order_id\")[\"product_id\"].count() #cuenta los productos con valores ausentes\n",
    "print(f\"La cantidad mínima de productos en una orden es: {idnan_count.min()}\")"
   ]
  },
  {
   "cell_type": "markdown",
   "id": "p9V6pddtjglj",
   "metadata": {
    "id": "p9V6pddtjglj"
   },
   "source": [
    "Describe brevemente cuáles son tus hallazgos.\n",
    "\n",
    "    Luego del análisis realizado se puede observar que todas órdenes con valores ausentes en \"add_to_cart_order\", tienen al menos 65 productos.\n",
    "    Podrá existir un problema a nivel del sistema que no registra el orden en los que se añade al carrito luego del producto 64."
   ]
  },
  {
   "cell_type": "code",
   "execution_count": 34,
   "id": "7a987d08",
   "metadata": {
    "id": "7a987d08"
   },
   "outputs": [
    {
     "name": "stdout",
     "output_type": "stream",
     "text": [
      "<class 'pandas.core.frame.DataFrame'>\n",
      "RangeIndex: 4545007 entries, 0 to 4545006\n",
      "Data columns (total 4 columns):\n",
      " #   Column             Non-Null Count    Dtype\n",
      "---  ------             --------------    -----\n",
      " 0   order_id           4545007 non-null  int64\n",
      " 1   product_id         4545007 non-null  int64\n",
      " 2   add_to_cart_order  4545007 non-null  int64\n",
      " 3   reordered          4545007 non-null  int64\n",
      "dtypes: int64(4)\n",
      "memory usage: 138.7 MB\n"
     ]
    }
   ],
   "source": [
    "# Remplaza los valores ausentes en la columna 'add_to_cart? con 999 y convierte la columna al tipo entero.\n",
    "\n",
    "order_products[\"add_to_cart_order\"] = order_products[\"add_to_cart_order\"].fillna(999).astype(\"int\")\n",
    "order_products.info(show_counts=True)"
   ]
  },
  {
   "cell_type": "markdown",
   "id": "fea4bcc7",
   "metadata": {
    "id": "fea4bcc7"
   },
   "source": [
    "Describe brevemente tus hallazgos y lo que hiciste con ellos.\n",
    "\n",
    "    Dado que los valores del campo \"add_to_cart_order\" indican el orden en que se pusieron los productos al carrito de compras, los valores ausentes fueron reemplazados con el número 999 que indicarían que fueron los últimos en agregarse, y dado que en las órdenes de compra con estos valores ausentes, ninguna supera los 64 productos, no habría ningún conflicto en el dataset con esta asignación."
   ]
  },
  {
   "cell_type": "markdown",
   "id": "RnplPFY1gSrb",
   "metadata": {
    "id": "RnplPFY1gSrb"
   },
   "source": [
    "## Conclusiones\n",
    "\n",
    "Escribe aquí tus conclusiones intermedias sobre el Paso 2. Preprocesamiento de los datos\n",
    "\n",
    "    Antes de análizar los datasets y empezar a sacar conclusiones, uno de los pasos más importantes es verificar la existencia de información duplicada y ausente.\n",
    "    Una vez verificada la existencia de valores duplicados y ausentes, no se debe apresurar a eliminarlos y reemplazarlos, sin antes verificar cual es su origen y que representan dentro del dataset.\n",
    "    Una vez verificado que efectivamente existen filas duplicadas se puede eliminar los duplicados para evitar errores en las conclusiones finales, de igual manera con los datos ausentes, se pueden reemplazar con otros valores que hagan sentido.\n",
    "    Por último, es necesario verificar el tipo de datos del dataframe y transformalos con criterio al tipo correcto, teniendo en cuenta si se trata de información cualitativa o categórica.\n"
   ]
  },
  {
   "cell_type": "markdown",
   "id": "UjrOIwTcz3ri",
   "metadata": {
    "id": "UjrOIwTcz3ri"
   },
   "source": [
    "# Paso 3. Análisis de los datos\n",
    "\n",
    "Una vez los datos estén procesados y listos, haz el siguiente análisis:"
   ]
  },
  {
   "cell_type": "markdown",
   "id": "turkish-kidney",
   "metadata": {
    "id": "turkish-kidney"
   },
   "source": [
    "# [A] Fácil (deben completarse todos para aprobar)\n",
    "\n",
    "1. Verifica que los valores en las columnas `'order_hour_of_day'` y `'order_dow'` en la tabla orders sean razonables (es decir, `'order_hour_of_day'` oscile entre 0 y 23 y `'order_dow'` oscile entre 0 y 6).\n",
    "2. Crea un gráfico que muestre el número de personas que hacen pedidos dependiendo de la hora del día.\n",
    "3. Crea un gráfico que muestre qué día de la semana la gente hace sus compras.\n",
    "4. Crea un gráfico que muestre el tiempo que la gente espera hasta hacer su siguiente pedido, y comenta sobre los valores mínimos y máximos."
   ]
  },
  {
   "cell_type": "markdown",
   "id": "short-capability",
   "metadata": {
    "id": "short-capability"
   },
   "source": [
    "### [A1] Verifica que los valores sean sensibles"
   ]
  },
  {
   "cell_type": "code",
   "execution_count": 35,
   "id": "growing-fruit",
   "metadata": {
    "id": "growing-fruit"
   },
   "outputs": [
    {
     "name": "stdout",
     "output_type": "stream",
     "text": [
      "Verificando coherencia en los valores del campo order_hour_of_day\n",
      "\n",
      "23       0\n",
      "37       1\n",
      "145      2\n",
      "193      3\n",
      "2048     4\n",
      "408      5\n",
      "87       6\n",
      "45       7\n",
      "6        8\n",
      "13       9\n",
      "19      10\n",
      "5       11\n",
      "1       12\n",
      "0       13\n",
      "29      14\n",
      "8       15\n",
      "11      16\n",
      "32      17\n",
      "7       18\n",
      "2       19\n",
      "3       20\n",
      "173     21\n",
      "17      22\n",
      "228     23\n",
      "Name: order_hour_of_day, dtype: int64\n"
     ]
    }
   ],
   "source": [
    "print(f\"Verificando coherencia en los valores del campo order_hour_of_day\")\n",
    "print()\n",
    "print(orders[\"order_hour_of_day\"].drop_duplicates().sort_values()) #muestra las horas del día registradas en el dataframe\n"
   ]
  },
  {
   "cell_type": "code",
   "execution_count": 36,
   "id": "accessory-malaysia",
   "metadata": {
    "id": "accessory-malaysia"
   },
   "outputs": [
    {
     "name": "stdout",
     "output_type": "stream",
     "text": [
      "Verificando coherencia en los valores del campo order_dow\n",
      "\n",
      "3     0\n",
      "12    1\n",
      "19    2\n",
      "6     3\n",
      "4     4\n",
      "1     5\n",
      "0     6\n",
      "Name: order_dow, dtype: int64\n"
     ]
    }
   ],
   "source": [
    "print(f\"Verificando coherencia en los valores del campo order_dow\")\n",
    "print()\n",
    "print(orders[\"order_dow\"].drop_duplicates().sort_values()) #muestra los días de la semana registrados en el dataframe"
   ]
  },
  {
   "cell_type": "markdown",
   "id": "hmR2GNQ6lCsX",
   "metadata": {
    "id": "hmR2GNQ6lCsX"
   },
   "source": [
    "Escribe aquí tus conclusiones\n",
    "\n",
    "    Se puede garantizar la coherencia de los datos ingresados en ambos campos, es decir para el campo \"order_hour_of_day\", los valores oscilan entre 0 y 23, que corresponden a las horas del día y datos del campo \"order_dow\" oscilan entre 0 y 6, que identifican los días de la semana."
   ]
  },
  {
   "cell_type": "markdown",
   "id": "a6743a70",
   "metadata": {
    "id": "a6743a70"
   },
   "source": [
    "### [A2] Para cada hora del día, ¿cuántas personas hacen órdenes?"
   ]
  },
  {
   "cell_type": "code",
   "execution_count": 37,
   "id": "a36cca27",
   "metadata": {
    "id": "a36cca27"
   },
   "outputs": [
    {
     "data": {
      "image/png": "[encoded data removed]",
      "text/plain": [
       "<Figure size 936x576 with 1 Axes>"
      ]
     },
     "metadata": {
      "needs_background": "light"
     },
     "output_type": "display_data"
    }
   ],
   "source": [
    "# Agrupar las órdenes por \"order_hour_of_day\" y contar la cantidad de IDs de usuario\n",
    "orders_grouped = orders.groupby(\"order_hour_of_day\")[\"user_id\"].count()\n",
    "orders_grouped.plot(x= \"order_hour_of_day\", #crea un gráfico de barras\n",
    "                    y = \"user_id\",\n",
    "                    kind = \"bar\",\n",
    "                    figsize = [13,8],\n",
    "                    title = \"Cantidad de Personas que Compran por Hora del Día\",\n",
    "                    xlabel = \"Horas del dia\",\n",
    "                    ylabel = \"Cantidad de personas\")\n",
    "plt.show() #muestra el gráfico"
   ]
  },
  {
   "cell_type": "markdown",
   "id": "41af2965",
   "metadata": {},
   "source": [
    "<div class=\"alert alert-block alert-success\">\n",
    "<b>Comentario del revisor</b> <a class=\"tocSkip\"></a>\n",
    "\n",
    "Muy buen trabajo!! Buen uso de la gráfica de barras para mostrar la distribución por horas.\n",
    "    \n",
    "</div>"
   ]
  },
  {
   "cell_type": "markdown",
   "id": "11270eed",
   "metadata": {
    "id": "11270eed"
   },
   "source": [
    "Escribe aquí tus conclusiones\n",
    "\n",
    "    Podemos observar que entre las 3:00 y 4:00 es donde menos persona realizan órdenes, por otro lado en el horario de 10:00 a 11:00 tenemos un pico máximo de personas que realizan órdenes."
   ]
  },
  {
   "cell_type": "markdown",
   "id": "documented-command",
   "metadata": {
    "id": "documented-command"
   },
   "source": [
    "### [A3] ¿Qué día de la semana compran víveres las personas?"
   ]
  },
  {
   "cell_type": "code",
   "execution_count": 38,
   "id": "chief-digit",
   "metadata": {
    "id": "chief-digit"
   },
   "outputs": [
    {
     "data": {
      "image/png": "[encoded data removed]",
      "text/plain": [
       "<Figure size 936x576 with 1 Axes>"
      ]
     },
     "metadata": {
      "needs_background": "light"
     },
     "output_type": "display_data"
    }
   ],
   "source": [
    "# Agrupar las órdenes por \"order_dow\" y contar la cantidad de IDs de usuario\n",
    "\n",
    "orders_grouped_days = orders.groupby(\"order_dow\")[\"user_id\"].count()\n",
    "\n",
    "orders_grouped_days.plot(x= \"order_dow\", #crea un gráfico de barras\n",
    "                    y = \"user_id\",\n",
    "                    kind = \"bar\",\n",
    "                    figsize = [13,8],\n",
    "                    title = \"Día que las Personas Compran Víveres\",\n",
    "                    xlabel = \"Días de la Semana (0 = Domingo)\",\n",
    "                    ylabel = \"Cantidad de personas\")\n",
    "plt.show() #muestra el gráfico\n"
   ]
  },
  {
   "cell_type": "markdown",
   "id": "dominant-lightning",
   "metadata": {
    "id": "dominant-lightning"
   },
   "source": [
    "Escribe aquí tus conclusiones\n",
    "\n",
    "    De acuerdo con la gráfica se puede ver que el día de la semana que los usuarios hacen sus compras es el día domingo, sin embargo, el día lunes también existe un número importante de personas que acuden a hacer sus compras."
   ]
  },
  {
   "cell_type": "markdown",
   "id": "cutting-concert",
   "metadata": {
    "id": "cutting-concert"
   },
   "source": [
    "### [A4] ¿Cuánto tiempo esperan las personas hasta hacer otro pedido? Comenta sobre los valores mínimos y máximos."
   ]
  },
  {
   "cell_type": "code",
   "execution_count": 39,
   "id": "c231f523",
   "metadata": {
    "id": "c231f523"
   },
   "outputs": [
    {
     "data": {
      "image/png": "[encoded data removed]",
      "text/plain": [
       "<Figure size 936x576 with 1 Axes>"
      ]
     },
     "metadata": {
      "needs_background": "light"
     },
     "output_type": "display_data"
    }
   ],
   "source": [
    "orders[\"days_since_prior_order\"].hist(figsize = [13,8]) #crea un histograma de \"days_since_prior_order\"\n",
    "plt.show() #muestra el histograma"
   ]
  },
  {
   "cell_type": "markdown",
   "id": "discrete-vertex",
   "metadata": {
    "id": "discrete-vertex"
   },
   "source": [
    "Escribe aquí tus conclusiones\n",
    "\n",
    "    De acuerdo con el gráfico mostrado, las personas que hacen un nueva compra de manera inmediata y las personas que hacen una nueva compra dentro de 30 días, son en cantidad similares, pero la mayoría de las personas las hacen aproximadamente cada 7 días, es decir cada semana, lo cual también tendría mucho que ver con la conclusión anterior de que la mayoría de personas hace sus compras entre domingo y lunes."
   ]
  },
  {
   "cell_type": "markdown",
   "id": "tight-staff",
   "metadata": {
    "id": "tight-staff"
   },
   "source": [
    "# [B] Intermedio (deben completarse todos para aprobar)\n",
    "\n",
    "1. ¿Existe alguna diferencia entre las distribuciones `'order_hour_of_day'` de los miércoles y los sábados? Traza gráficos de barra de `'order_hour_of_day'` para ambos días en la misma figura y describe las diferencias que observes.\n",
    "2. Grafica la distribución para el número de órdenes que hacen los clientes (es decir, cuántos clientes hicieron solo 1 pedido, cuántos hicieron 2, cuántos 3, y así sucesivamente...).\n",
    "3. ¿Cuáles son los 20 principales productos que se piden con más frecuencia (muestra su identificación y nombre)?"
   ]
  },
  {
   "cell_type": "markdown",
   "id": "packed-classic",
   "metadata": {
    "id": "packed-classic"
   },
   "source": [
    "### [B1] Diferencia entre miércoles y sábados para  `'order_hour_of_day'`. Traza gráficos de barra para los dos días y describe las diferencias que veas."
   ]
  },
  {
   "cell_type": "code",
   "execution_count": 40,
   "id": "d89b8403",
   "metadata": {
    "id": "d89b8403"
   },
   "outputs": [],
   "source": [
    "# Agrupar las órdenes por \"order_dow\" y busca coincidencias con los elementos de la lista\n",
    "filtered_days = orders[orders['order_dow'].isin([3, 6])] "
   ]
  },
  {
   "cell_type": "code",
   "execution_count": 41,
   "id": "94e54e8a",
   "metadata": {
    "id": "94e54e8a"
   },
   "outputs": [
    {
     "data": {
      "text/html": [
       "<div>\n",
       "<style scoped>\n",
       "    .dataframe tbody tr th:only-of-type {\n",
       "        vertical-align: middle;\n",
       "    }\n",
       "\n",
       "    .dataframe tbody tr th {\n",
       "        vertical-align: top;\n",
       "    }\n",
       "\n",
       "    .dataframe thead th {\n",
       "        text-align: right;\n",
       "    }\n",
       "</style>\n",
       "<table border=\"1\" class=\"dataframe\">\n",
       "  <thead>\n",
       "    <tr style=\"text-align: right;\">\n",
       "      <th></th>\n",
       "      <th>order_id</th>\n",
       "      <th>user_id</th>\n",
       "      <th>order_number</th>\n",
       "      <th>order_dow</th>\n",
       "      <th>order_hour_of_day</th>\n",
       "      <th>days_since_prior_order</th>\n",
       "    </tr>\n",
       "  </thead>\n",
       "  <tbody>\n",
       "    <tr>\n",
       "      <th>0</th>\n",
       "      <td>1515936</td>\n",
       "      <td>183418</td>\n",
       "      <td>11</td>\n",
       "      <td>6</td>\n",
       "      <td>13</td>\n",
       "      <td>30.0</td>\n",
       "    </tr>\n",
       "    <tr>\n",
       "      <th>6</th>\n",
       "      <td>2511640</td>\n",
       "      <td>148233</td>\n",
       "      <td>40</td>\n",
       "      <td>3</td>\n",
       "      <td>8</td>\n",
       "      <td>2.0</td>\n",
       "    </tr>\n",
       "    <tr>\n",
       "      <th>11</th>\n",
       "      <td>102585</td>\n",
       "      <td>191558</td>\n",
       "      <td>18</td>\n",
       "      <td>6</td>\n",
       "      <td>16</td>\n",
       "      <td>8.0</td>\n",
       "    </tr>\n",
       "    <tr>\n",
       "      <th>14</th>\n",
       "      <td>2843219</td>\n",
       "      <td>74699</td>\n",
       "      <td>4</td>\n",
       "      <td>6</td>\n",
       "      <td>11</td>\n",
       "      <td>30.0</td>\n",
       "    </tr>\n",
       "    <tr>\n",
       "      <th>16</th>\n",
       "      <td>3109465</td>\n",
       "      <td>55090</td>\n",
       "      <td>19</td>\n",
       "      <td>3</td>\n",
       "      <td>15</td>\n",
       "      <td>9.0</td>\n",
       "    </tr>\n",
       "  </tbody>\n",
       "</table>\n",
       "</div>"
      ],
      "text/plain": [
       "    order_id  user_id  order_number  order_dow  order_hour_of_day  \\\n",
       "0    1515936   183418            11          6                 13   \n",
       "6    2511640   148233            40          3                  8   \n",
       "11    102585   191558            18          6                 16   \n",
       "14   2843219    74699             4          6                 11   \n",
       "16   3109465    55090            19          3                 15   \n",
       "\n",
       "    days_since_prior_order  \n",
       "0                     30.0  \n",
       "6                      2.0  \n",
       "11                     8.0  \n",
       "14                    30.0  \n",
       "16                     9.0  "
      ]
     },
     "execution_count": 41,
     "metadata": {},
     "output_type": "execute_result"
    }
   ],
   "source": [
    "filtered_days.head()"
   ]
  },
  {
   "cell_type": "code",
   "execution_count": 42,
   "id": "797c90a8",
   "metadata": {
    "id": "797c90a8"
   },
   "outputs": [
    {
     "data": {
      "text/plain": [
       "order_dow\n",
       "3    60897\n",
       "6    62649\n",
       "Name: order_hour_of_day, dtype: int64"
      ]
     },
     "execution_count": 42,
     "metadata": {},
     "output_type": "execute_result"
    }
   ],
   "source": [
    "# Agrupar los días filtrados por \"order_dow\" y cuenta la cantidad elementos en order_id\n",
    "grouped_days = filtered_days.groupby(\"order_dow\")[\"order_hour_of_day\"].count()\n",
    "grouped_days"
   ]
  },
  {
   "cell_type": "code",
   "execution_count": 43,
   "id": "35bcea30",
   "metadata": {
    "id": "35bcea30"
   },
   "outputs": [
    {
     "data": {
      "image/png": "[encoded data removed]",
      "text/plain": [
       "<Figure size 432x288 with 1 Axes>"
      ]
     },
     "metadata": {
      "needs_background": "light"
     },
     "output_type": "display_data"
    }
   ],
   "source": [
    "grouped_days.plot(x = \"order_hour_of_day\",\n",
    "                  \n",
    "                  kind = \"bar\",\n",
    "                 title = \"Compras los días Miércoles y Sábados\",\n",
    "                 xlabel = \"Días (3 = Miércoles, 6 = Sábado)\",\n",
    "                 ylabel = \"Cantidad de Órdenes\")\n",
    "\n",
    "\n",
    "\n",
    "plt.show()"
   ]
  },
  {
   "cell_type": "markdown",
   "id": "f3c6a5da",
   "metadata": {},
   "source": [
    "<div class=\"alert alert-block alert-danger\">\n",
    "\n",
    "<b>Comentario revisor</b> <a class=\"tocSkip\"></a>\n",
    "\n",
    "Para este caso, debemos de filtrar por los días miércoles y sábados y posteriormente hacer el conteo para cada hora del día. Estos valores los juntamos en una sola base y posteriormente los graficamos para poder visualizar de forma clara los resultados. \n",
    "\n",
    "</div>"
   ]
  },
  {
   "cell_type": "markdown",
   "id": "6e01cf20",
   "metadata": {},
   "source": [
    "<div class=\"alert alert-block alert-info\">\n",
    "<b>Respuesta del estudiante.</b> <a class=\"tocSkip\"></a>\n",
    "    \n",
    "De acuerdo con el comentario del revisor, se filtra por miércoles y sábado y se realiza el conteo por día para luego graficar y mostrar las diferencias.\n",
    "</div>"
   ]
  },
  {
   "cell_type": "markdown",
   "id": "charitable-congo",
   "metadata": {
    "id": "charitable-congo"
   },
   "source": [
    "Escribe aquí tus conclusiones\n",
    "\n",
    "    Las cantidad de órdenes de los días miércoles y sábados son bastante parecidas, el día sábado es ligeremante superior pero son equiparables."
   ]
  },
  {
   "cell_type": "markdown",
   "id": "e3891143",
   "metadata": {
    "id": "e3891143"
   },
   "source": [
    "### [B2] ¿Cuál es la distribución para el número de pedidos por cliente?"
   ]
  },
  {
   "cell_type": "code",
   "execution_count": 44,
   "id": "d8c26c23",
   "metadata": {
    "id": "d8c26c23"
   },
   "outputs": [
    {
     "data": {
      "text/plain": [
       "order_number\n",
       "1      28817\n",
       "2      28633\n",
       "3      28685\n",
       "4      28703\n",
       "5      25661\n",
       "       ...  \n",
       "96       220\n",
       "97       221\n",
       "98       191\n",
       "99       169\n",
       "100      194\n",
       "Name: user_id, Length: 100, dtype: int64"
      ]
     },
     "execution_count": 44,
     "metadata": {},
     "output_type": "execute_result"
    }
   ],
   "source": [
    "# Agrupar los días filtrados por \"order_number\" y cuenta la cantidad elementos en user_id\n",
    "orders_by_client = orders.groupby(\"order_number\")[\"user_id\"].count()\n",
    "orders_by_client"
   ]
  },
  {
   "cell_type": "code",
   "execution_count": 45,
   "id": "00e69a66",
   "metadata": {
    "id": "00e69a66"
   },
   "outputs": [
    {
     "data": {
      "image/png": "[encoded data removed]",
      "text/plain": [
       "<Figure size 1440x576 with 1 Axes>"
      ]
     },
     "metadata": {
      "needs_background": "light"
     },
     "output_type": "display_data"
    }
   ],
   "source": [
    "#crea un gráfico de barras order_numer\n",
    "orders_by_client.plot(x = \"order_number\",\n",
    "                     kind = \"bar\",\n",
    "                     title = \"Órdenes de Compra por Cliente\",\n",
    "                     xlabel = \"Veces que un cliente ha hecho un pedido\",                      \n",
    "                     ylabel = \"Cantidad de Clientes\",\n",
    "                     figsize = [20,8])\n",
    "\n",
    "plt.show() #muestra gráfico"
   ]
  },
  {
   "cell_type": "markdown",
   "id": "d2eff7d5",
   "metadata": {
    "id": "d2eff7d5"
   },
   "source": [
    "Escribe aquí tus conclusiones\n",
    "\n",
    "    Del gráfico se desprende que la mayoría de personas han hecho entre 1 y 4 veces pedidos, y que a más pedidos la cantidad de clientes va disminuyendo también."
   ]
  },
  {
   "cell_type": "markdown",
   "id": "54a0319c",
   "metadata": {
    "id": "54a0319c"
   },
   "source": [
    "### [B3] ¿Cuáles son los 20 productos más populares (muestra su ID y nombre)?"
   ]
  },
  {
   "cell_type": "code",
   "execution_count": 46,
   "id": "exterior-arizona",
   "metadata": {
    "id": "exterior-arizona",
    "scrolled": true
   },
   "outputs": [],
   "source": [
    "#junta los datasets order_products y products por la columna en común product_id\n",
    "merged_products = order_products.merge(products, on = \"product_id\")\n",
    "\n",
    "#calcula los 20 productos más populares, contando las veces que un cliente las ordenó\n",
    "most_wanted_products = merged_products[[\"product_name\",\"product_id\"]].value_counts().iloc[:20]\n",
    "\n"
   ]
  },
  {
   "cell_type": "code",
   "execution_count": 47,
   "id": "universal-facial",
   "metadata": {
    "id": "universal-facial"
   },
   "outputs": [
    {
     "data": {
      "text/plain": [
       "product_name              product_id\n",
       "Banana                    24852         66050\n",
       "Bag of Organic Bananas    13176         53297\n",
       "Organic Strawberries      21137         37039\n",
       "Organic Baby Spinach      21903         33971\n",
       "Organic Hass Avocado      47209         29773\n",
       "Organic Avocado           47766         24689\n",
       "Large Lemon               47626         21495\n",
       "Strawberries              16797         20018\n",
       "Limes                     26209         19690\n",
       "Organic Whole Milk        27845         19600\n",
       "Organic Raspberries       27966         19197\n",
       "Organic Yellow Onion      22935         15898\n",
       "Organic Garlic            24964         15292\n",
       "Organic Zucchini          45007         14584\n",
       "Organic Blueberries       39275         13879\n",
       "Cucumber Kirby            49683         13675\n",
       "Organic Fuji Apple        28204         12544\n",
       "Organic Lemon             5876          12232\n",
       "Apple Honeycrisp Organic  8277          11993\n",
       "Organic Grape Tomatoes    40706         11781\n",
       "dtype: int64"
      ]
     },
     "execution_count": 47,
     "metadata": {},
     "output_type": "execute_result"
    }
   ],
   "source": [
    "most_wanted_products"
   ]
  },
  {
   "cell_type": "code",
   "execution_count": 48,
   "id": "bbcdd20b",
   "metadata": {
    "id": "bbcdd20b"
   },
   "outputs": [
    {
     "data": {
      "image/png": "[encoded data removed]",
      "text/plain": [
       "<Figure size 1080x576 with 1 Axes>"
      ]
     },
     "metadata": {
      "needs_background": "light"
     },
     "output_type": "display_data"
    }
   ],
   "source": [
    "#crea un gráfico de barras para la columna product_name\n",
    "most_wanted_products.plot(x = \"product_name\",\n",
    "                         kind = \"bar\",\n",
    "                          title = \"Top 20 productos más populares\",\n",
    "                         figsize = [15,8],                          \n",
    "                         xlabel = \"Código de producto\",\n",
    "                         ylabel = \"Veces compradas\")\n",
    "\n",
    "plt.show() #muestra el gráfico"
   ]
  },
  {
   "cell_type": "markdown",
   "id": "7df00f47",
   "metadata": {
    "id": "7df00f47"
   },
   "source": [
    "Escribe aquí tus conclusiones\n",
    "\n",
    "    Las bananas son el producto más popular de la tienda y cerrando el top 20 los tomates orgánicos."
   ]
  },
  {
   "cell_type": "markdown",
   "id": "gross-theme",
   "metadata": {
    "id": "gross-theme"
   },
   "source": [
    "# [C] Difícil (deben completarse todos para aprobar)\n",
    "\n",
    "1. ¿Cuántos artículos suelen comprar las personas en un pedido? ¿Cómo es la distribución?\n",
    "2. ¿Cuáles son los 20 principales artículos que vuelven a pedirse con mayor frecuencia (muestra sus nombres e IDs de los productos)?\n",
    "3. Para cada producto, ¿cuál es la tasa de repetición del pedido (número de repeticiones de pedido/total de pedidos?\n",
    "4. Para cada cliente, ¿qué proporción de los productos que pidió ya los había pedido? Calcula la tasa de repetición de pedido para cada usuario en lugar de para cada producto.\n",
    "5. ¿Cuáles son los 20 principales artículos que la gente pone primero en sus carritos (muestra las IDs de los productos, sus nombres, y el número de veces en que fueron el primer artículo en añadirse al carrito)?"
   ]
  },
  {
   "cell_type": "markdown",
   "id": "romantic-deposit",
   "metadata": {
    "id": "romantic-deposit"
   },
   "source": [
    "### [C1] ¿Cuántos artículos compran normalmente las personas en un pedido? ¿Cómo es la distribución?"
   ]
  },
  {
   "cell_type": "code",
   "execution_count": 49,
   "id": "virtual-punch",
   "metadata": {
    "id": "virtual-punch"
   },
   "outputs": [],
   "source": [
    "#filtra order_products por order_id y selecciona las columnas product_id y order_id\n",
    "q_products = order_products.query(\"order_id\")[[\"product_id\",\"order_id\"]]"
   ]
  },
  {
   "cell_type": "code",
   "execution_count": 50,
   "id": "sensitive-breathing",
   "metadata": {
    "id": "sensitive-breathing"
   },
   "outputs": [
    {
     "data": {
      "text/html": [
       "<div>\n",
       "<style scoped>\n",
       "    .dataframe tbody tr th:only-of-type {\n",
       "        vertical-align: middle;\n",
       "    }\n",
       "\n",
       "    .dataframe tbody tr th {\n",
       "        vertical-align: top;\n",
       "    }\n",
       "\n",
       "    .dataframe thead th {\n",
       "        text-align: right;\n",
       "    }\n",
       "</style>\n",
       "<table border=\"1\" class=\"dataframe\">\n",
       "  <thead>\n",
       "    <tr style=\"text-align: right;\">\n",
       "      <th></th>\n",
       "      <th>product_id</th>\n",
       "      <th>order_id</th>\n",
       "    </tr>\n",
       "  </thead>\n",
       "  <tbody>\n",
       "    <tr>\n",
       "      <th>2141543</th>\n",
       "      <td>49481</td>\n",
       "      <td>3335445</td>\n",
       "    </tr>\n",
       "    <tr>\n",
       "      <th>567889</th>\n",
       "      <td>26591</td>\n",
       "      <td>1669928</td>\n",
       "    </tr>\n",
       "    <tr>\n",
       "      <th>2261212</th>\n",
       "      <td>22959</td>\n",
       "      <td>3259836</td>\n",
       "    </tr>\n",
       "    <tr>\n",
       "      <th>491251</th>\n",
       "      <td>48109</td>\n",
       "      <td>2828756</td>\n",
       "    </tr>\n",
       "    <tr>\n",
       "      <th>2571142</th>\n",
       "      <td>40251</td>\n",
       "      <td>1665005</td>\n",
       "    </tr>\n",
       "    <tr>\n",
       "      <th>...</th>\n",
       "      <td>...</td>\n",
       "      <td>...</td>\n",
       "    </tr>\n",
       "    <tr>\n",
       "      <th>577211</th>\n",
       "      <td>21334</td>\n",
       "      <td>1897629</td>\n",
       "    </tr>\n",
       "    <tr>\n",
       "      <th>1219554</th>\n",
       "      <td>36792</td>\n",
       "      <td>219735</td>\n",
       "    </tr>\n",
       "    <tr>\n",
       "      <th>692640</th>\n",
       "      <td>25187</td>\n",
       "      <td>3355200</td>\n",
       "    </tr>\n",
       "    <tr>\n",
       "      <th>319435</th>\n",
       "      <td>35951</td>\n",
       "      <td>155010</td>\n",
       "    </tr>\n",
       "    <tr>\n",
       "      <th>1398151</th>\n",
       "      <td>26800</td>\n",
       "      <td>1882433</td>\n",
       "    </tr>\n",
       "  </tbody>\n",
       "</table>\n",
       "<p>4545007 rows × 2 columns</p>\n",
       "</div>"
      ],
      "text/plain": [
       "         product_id  order_id\n",
       "2141543       49481   3335445\n",
       "567889        26591   1669928\n",
       "2261212       22959   3259836\n",
       "491251        48109   2828756\n",
       "2571142       40251   1665005\n",
       "...             ...       ...\n",
       "577211        21334   1897629\n",
       "1219554       36792    219735\n",
       "692640        25187   3355200\n",
       "319435        35951    155010\n",
       "1398151       26800   1882433\n",
       "\n",
       "[4545007 rows x 2 columns]"
      ]
     },
     "execution_count": 50,
     "metadata": {},
     "output_type": "execute_result"
    }
   ],
   "source": [
    "q_products"
   ]
  },
  {
   "cell_type": "markdown",
   "id": "4e0aef2f",
   "metadata": {},
   "source": [
    "<div class=\"alert alert-block alert-warning\">\n",
    "<b>Comentario Revisor</b> <a class=\"tocSkip\"></a>\n",
    "\n",
    "Para visualziar mejor los resultados, te recomiendo usar kind='bar', dado que ya lo tienes ordenado y en frecuencia los datos.\n",
    "</div>"
   ]
  },
  {
   "cell_type": "markdown",
   "id": "6678299f",
   "metadata": {},
   "source": [
    "<div class=\"alert alert-block alert-info\">\n",
    "<b>Respuesta del estudiante.</b> <a class=\"tocSkip\"></a>\n",
    "    \n",
    "Se intentó realizar el gráfico pero al haber demasiados pedidos el kernel no lo soportó, no se incluye un gráfico.\n",
    "</div>"
   ]
  },
  {
   "cell_type": "code",
   "execution_count": 65,
   "id": "completed-frank",
   "metadata": {
    "id": "completed-frank"
   },
   "outputs": [
    {
     "name": "stdout",
     "output_type": "stream",
     "text": [
      "Normalmente las personas compran en un mismo pedido 17.874024697184208 productos\n"
     ]
    }
   ],
   "source": [
    "#muestra el promedio de productos que las personas compran en un pedido\n",
    "print(f\"Normalmente las personas compran en un mismo pedido {q_products.groupby('order_id')['product_id'].count().mean()} productos\")\n",
    "\n",
    "\n"
   ]
  },
  {
   "cell_type": "markdown",
   "id": "designed-mortality",
   "metadata": {
    "id": "designed-mortality"
   },
   "source": [
    "Escribe aquí tus conclusiones"
   ]
  },
  {
   "cell_type": "markdown",
   "id": "5e6b5537",
   "metadata": {
    "id": "5e6b5537"
   },
   "source": [
    "### [C2] ¿Cuáles son los 20 principales artículos que vuelven a pedirse con mayor frecuencia (muestra sus nombres e IDs de los productos)?"
   ]
  },
  {
   "cell_type": "code",
   "execution_count": 52,
   "id": "9374e55a",
   "metadata": {
    "id": "9374e55a"
   },
   "outputs": [
    {
     "data": {
      "text/html": [
       "<div>\n",
       "<style scoped>\n",
       "    .dataframe tbody tr th:only-of-type {\n",
       "        vertical-align: middle;\n",
       "    }\n",
       "\n",
       "    .dataframe tbody tr th {\n",
       "        vertical-align: top;\n",
       "    }\n",
       "\n",
       "    .dataframe thead th {\n",
       "        text-align: right;\n",
       "    }\n",
       "</style>\n",
       "<table border=\"1\" class=\"dataframe\">\n",
       "  <thead>\n",
       "    <tr style=\"text-align: right;\">\n",
       "      <th></th>\n",
       "      <th>order_id</th>\n",
       "      <th>user_id</th>\n",
       "      <th>order_number</th>\n",
       "      <th>order_dow</th>\n",
       "      <th>order_hour_of_day</th>\n",
       "      <th>days_since_prior_order</th>\n",
       "      <th>product_id</th>\n",
       "      <th>add_to_cart_order</th>\n",
       "      <th>reordered</th>\n",
       "    </tr>\n",
       "  </thead>\n",
       "  <tbody>\n",
       "    <tr>\n",
       "      <th>0</th>\n",
       "      <td>1515936</td>\n",
       "      <td>183418</td>\n",
       "      <td>11</td>\n",
       "      <td>6</td>\n",
       "      <td>13</td>\n",
       "      <td>30.0</td>\n",
       "      <td>19048</td>\n",
       "      <td>1</td>\n",
       "      <td>1</td>\n",
       "    </tr>\n",
       "    <tr>\n",
       "      <th>1</th>\n",
       "      <td>1515936</td>\n",
       "      <td>183418</td>\n",
       "      <td>11</td>\n",
       "      <td>6</td>\n",
       "      <td>13</td>\n",
       "      <td>30.0</td>\n",
       "      <td>47766</td>\n",
       "      <td>3</td>\n",
       "      <td>1</td>\n",
       "    </tr>\n",
       "    <tr>\n",
       "      <th>2</th>\n",
       "      <td>1515936</td>\n",
       "      <td>183418</td>\n",
       "      <td>11</td>\n",
       "      <td>6</td>\n",
       "      <td>13</td>\n",
       "      <td>30.0</td>\n",
       "      <td>45066</td>\n",
       "      <td>9</td>\n",
       "      <td>0</td>\n",
       "    </tr>\n",
       "    <tr>\n",
       "      <th>3</th>\n",
       "      <td>1515936</td>\n",
       "      <td>183418</td>\n",
       "      <td>11</td>\n",
       "      <td>6</td>\n",
       "      <td>13</td>\n",
       "      <td>30.0</td>\n",
       "      <td>24082</td>\n",
       "      <td>11</td>\n",
       "      <td>0</td>\n",
       "    </tr>\n",
       "    <tr>\n",
       "      <th>4</th>\n",
       "      <td>1515936</td>\n",
       "      <td>183418</td>\n",
       "      <td>11</td>\n",
       "      <td>6</td>\n",
       "      <td>13</td>\n",
       "      <td>30.0</td>\n",
       "      <td>24363</td>\n",
       "      <td>4</td>\n",
       "      <td>0</td>\n",
       "    </tr>\n",
       "    <tr>\n",
       "      <th>...</th>\n",
       "      <td>...</td>\n",
       "      <td>...</td>\n",
       "      <td>...</td>\n",
       "      <td>...</td>\n",
       "      <td>...</td>\n",
       "      <td>...</td>\n",
       "      <td>...</td>\n",
       "      <td>...</td>\n",
       "      <td>...</td>\n",
       "    </tr>\n",
       "    <tr>\n",
       "      <th>4545002</th>\n",
       "      <td>2071924</td>\n",
       "      <td>1730</td>\n",
       "      <td>18</td>\n",
       "      <td>1</td>\n",
       "      <td>14</td>\n",
       "      <td>15.0</td>\n",
       "      <td>1503</td>\n",
       "      <td>17</td>\n",
       "      <td>0</td>\n",
       "    </tr>\n",
       "    <tr>\n",
       "      <th>4545003</th>\n",
       "      <td>2071924</td>\n",
       "      <td>1730</td>\n",
       "      <td>18</td>\n",
       "      <td>1</td>\n",
       "      <td>14</td>\n",
       "      <td>15.0</td>\n",
       "      <td>4778</td>\n",
       "      <td>12</td>\n",
       "      <td>1</td>\n",
       "    </tr>\n",
       "    <tr>\n",
       "      <th>4545004</th>\n",
       "      <td>2071924</td>\n",
       "      <td>1730</td>\n",
       "      <td>18</td>\n",
       "      <td>1</td>\n",
       "      <td>14</td>\n",
       "      <td>15.0</td>\n",
       "      <td>11512</td>\n",
       "      <td>1</td>\n",
       "      <td>1</td>\n",
       "    </tr>\n",
       "    <tr>\n",
       "      <th>4545005</th>\n",
       "      <td>2071924</td>\n",
       "      <td>1730</td>\n",
       "      <td>18</td>\n",
       "      <td>1</td>\n",
       "      <td>14</td>\n",
       "      <td>15.0</td>\n",
       "      <td>4920</td>\n",
       "      <td>6</td>\n",
       "      <td>1</td>\n",
       "    </tr>\n",
       "    <tr>\n",
       "      <th>4545006</th>\n",
       "      <td>2071924</td>\n",
       "      <td>1730</td>\n",
       "      <td>18</td>\n",
       "      <td>1</td>\n",
       "      <td>14</td>\n",
       "      <td>15.0</td>\n",
       "      <td>17678</td>\n",
       "      <td>4</td>\n",
       "      <td>1</td>\n",
       "    </tr>\n",
       "  </tbody>\n",
       "</table>\n",
       "<p>4545007 rows × 9 columns</p>\n",
       "</div>"
      ],
      "text/plain": [
       "         order_id  user_id  order_number  order_dow  order_hour_of_day  \\\n",
       "0         1515936   183418            11          6                 13   \n",
       "1         1515936   183418            11          6                 13   \n",
       "2         1515936   183418            11          6                 13   \n",
       "3         1515936   183418            11          6                 13   \n",
       "4         1515936   183418            11          6                 13   \n",
       "...           ...      ...           ...        ...                ...   \n",
       "4545002   2071924     1730            18          1                 14   \n",
       "4545003   2071924     1730            18          1                 14   \n",
       "4545004   2071924     1730            18          1                 14   \n",
       "4545005   2071924     1730            18          1                 14   \n",
       "4545006   2071924     1730            18          1                 14   \n",
       "\n",
       "         days_since_prior_order  product_id  add_to_cart_order  reordered  \n",
       "0                          30.0       19048                  1          1  \n",
       "1                          30.0       47766                  3          1  \n",
       "2                          30.0       45066                  9          0  \n",
       "3                          30.0       24082                 11          0  \n",
       "4                          30.0       24363                  4          0  \n",
       "...                         ...         ...                ...        ...  \n",
       "4545002                    15.0        1503                 17          0  \n",
       "4545003                    15.0        4778                 12          1  \n",
       "4545004                    15.0       11512                  1          1  \n",
       "4545005                    15.0        4920                  6          1  \n",
       "4545006                    15.0       17678                  4          1  \n",
       "\n",
       "[4545007 rows x 9 columns]"
      ]
     },
     "execution_count": 52,
     "metadata": {},
     "output_type": "execute_result"
    }
   ],
   "source": [
    "#Une los dataframes orders y order_products por medio de la columna en común order_id\n",
    "merged_orders_order_products = orders.merge(order_products, on = \"order_id\")\n",
    "merged_orders_order_products"
   ]
  },
  {
   "cell_type": "code",
   "execution_count": 53,
   "id": "possible-change",
   "metadata": {
    "id": "possible-change",
    "scrolled": true
   },
   "outputs": [
    {
     "data": {
      "text/html": [
       "<div>\n",
       "<style scoped>\n",
       "    .dataframe tbody tr th:only-of-type {\n",
       "        vertical-align: middle;\n",
       "    }\n",
       "\n",
       "    .dataframe tbody tr th {\n",
       "        vertical-align: top;\n",
       "    }\n",
       "\n",
       "    .dataframe thead th {\n",
       "        text-align: right;\n",
       "    }\n",
       "</style>\n",
       "<table border=\"1\" class=\"dataframe\">\n",
       "  <thead>\n",
       "    <tr style=\"text-align: right;\">\n",
       "      <th></th>\n",
       "      <th>order_id</th>\n",
       "      <th>user_id</th>\n",
       "      <th>order_number</th>\n",
       "      <th>order_dow</th>\n",
       "      <th>order_hour_of_day</th>\n",
       "      <th>days_since_prior_order</th>\n",
       "      <th>product_id</th>\n",
       "      <th>add_to_cart_order</th>\n",
       "      <th>reordered</th>\n",
       "      <th>product_name</th>\n",
       "      <th>aisle_id</th>\n",
       "      <th>department_id</th>\n",
       "    </tr>\n",
       "  </thead>\n",
       "  <tbody>\n",
       "    <tr>\n",
       "      <th>0</th>\n",
       "      <td>1515936</td>\n",
       "      <td>183418</td>\n",
       "      <td>11</td>\n",
       "      <td>6</td>\n",
       "      <td>13</td>\n",
       "      <td>30.0</td>\n",
       "      <td>19048</td>\n",
       "      <td>1</td>\n",
       "      <td>1</td>\n",
       "      <td>Organic Butternut Squash</td>\n",
       "      <td>83</td>\n",
       "      <td>4</td>\n",
       "    </tr>\n",
       "    <tr>\n",
       "      <th>1</th>\n",
       "      <td>787445</td>\n",
       "      <td>25685</td>\n",
       "      <td>1</td>\n",
       "      <td>6</td>\n",
       "      <td>18</td>\n",
       "      <td>NaN</td>\n",
       "      <td>19048</td>\n",
       "      <td>16</td>\n",
       "      <td>0</td>\n",
       "      <td>Organic Butternut Squash</td>\n",
       "      <td>83</td>\n",
       "      <td>4</td>\n",
       "    </tr>\n",
       "    <tr>\n",
       "      <th>2</th>\n",
       "      <td>1646929</td>\n",
       "      <td>205815</td>\n",
       "      <td>37</td>\n",
       "      <td>5</td>\n",
       "      <td>13</td>\n",
       "      <td>8.0</td>\n",
       "      <td>19048</td>\n",
       "      <td>11</td>\n",
       "      <td>0</td>\n",
       "      <td>Organic Butternut Squash</td>\n",
       "      <td>83</td>\n",
       "      <td>4</td>\n",
       "    </tr>\n",
       "    <tr>\n",
       "      <th>3</th>\n",
       "      <td>276490</td>\n",
       "      <td>1004</td>\n",
       "      <td>24</td>\n",
       "      <td>1</td>\n",
       "      <td>12</td>\n",
       "      <td>11.0</td>\n",
       "      <td>19048</td>\n",
       "      <td>1</td>\n",
       "      <td>1</td>\n",
       "      <td>Organic Butternut Squash</td>\n",
       "      <td>83</td>\n",
       "      <td>4</td>\n",
       "    </tr>\n",
       "    <tr>\n",
       "      <th>4</th>\n",
       "      <td>1300214</td>\n",
       "      <td>33481</td>\n",
       "      <td>7</td>\n",
       "      <td>5</td>\n",
       "      <td>9</td>\n",
       "      <td>6.0</td>\n",
       "      <td>19048</td>\n",
       "      <td>9</td>\n",
       "      <td>1</td>\n",
       "      <td>Organic Butternut Squash</td>\n",
       "      <td>83</td>\n",
       "      <td>4</td>\n",
       "    </tr>\n",
       "    <tr>\n",
       "      <th>...</th>\n",
       "      <td>...</td>\n",
       "      <td>...</td>\n",
       "      <td>...</td>\n",
       "      <td>...</td>\n",
       "      <td>...</td>\n",
       "      <td>...</td>\n",
       "      <td>...</td>\n",
       "      <td>...</td>\n",
       "      <td>...</td>\n",
       "      <td>...</td>\n",
       "      <td>...</td>\n",
       "      <td>...</td>\n",
       "    </tr>\n",
       "    <tr>\n",
       "      <th>4545002</th>\n",
       "      <td>724656</td>\n",
       "      <td>148196</td>\n",
       "      <td>8</td>\n",
       "      <td>1</td>\n",
       "      <td>12</td>\n",
       "      <td>6.0</td>\n",
       "      <td>17942</td>\n",
       "      <td>35</td>\n",
       "      <td>1</td>\n",
       "      <td>Steamables Golden Potatoes</td>\n",
       "      <td>83</td>\n",
       "      <td>4</td>\n",
       "    </tr>\n",
       "    <tr>\n",
       "      <th>4545003</th>\n",
       "      <td>494864</td>\n",
       "      <td>27698</td>\n",
       "      <td>10</td>\n",
       "      <td>3</td>\n",
       "      <td>22</td>\n",
       "      <td>30.0</td>\n",
       "      <td>39288</td>\n",
       "      <td>12</td>\n",
       "      <td>1</td>\n",
       "      <td>Chicken Strips</td>\n",
       "      <td>49</td>\n",
       "      <td>12</td>\n",
       "    </tr>\n",
       "    <tr>\n",
       "      <th>4545004</th>\n",
       "      <td>1537077</td>\n",
       "      <td>20022</td>\n",
       "      <td>1</td>\n",
       "      <td>1</td>\n",
       "      <td>12</td>\n",
       "      <td>NaN</td>\n",
       "      <td>22976</td>\n",
       "      <td>11</td>\n",
       "      <td>0</td>\n",
       "      <td>Jacked Ranch Hot Chips</td>\n",
       "      <td>107</td>\n",
       "      <td>19</td>\n",
       "    </tr>\n",
       "    <tr>\n",
       "      <th>4545005</th>\n",
       "      <td>3215753</td>\n",
       "      <td>16884</td>\n",
       "      <td>21</td>\n",
       "      <td>6</td>\n",
       "      <td>8</td>\n",
       "      <td>3.0</td>\n",
       "      <td>40617</td>\n",
       "      <td>2</td>\n",
       "      <td>0</td>\n",
       "      <td>Ginger Peach With Matcha Tea</td>\n",
       "      <td>94</td>\n",
       "      <td>7</td>\n",
       "    </tr>\n",
       "    <tr>\n",
       "      <th>4545006</th>\n",
       "      <td>3215753</td>\n",
       "      <td>16884</td>\n",
       "      <td>21</td>\n",
       "      <td>6</td>\n",
       "      <td>8</td>\n",
       "      <td>3.0</td>\n",
       "      <td>34081</td>\n",
       "      <td>1</td>\n",
       "      <td>1</td>\n",
       "      <td>Peach Black Tea</td>\n",
       "      <td>94</td>\n",
       "      <td>7</td>\n",
       "    </tr>\n",
       "  </tbody>\n",
       "</table>\n",
       "<p>4545007 rows × 12 columns</p>\n",
       "</div>"
      ],
      "text/plain": [
       "         order_id  user_id  order_number  order_dow  order_hour_of_day  \\\n",
       "0         1515936   183418            11          6                 13   \n",
       "1          787445    25685             1          6                 18   \n",
       "2         1646929   205815            37          5                 13   \n",
       "3          276490     1004            24          1                 12   \n",
       "4         1300214    33481             7          5                  9   \n",
       "...           ...      ...           ...        ...                ...   \n",
       "4545002    724656   148196             8          1                 12   \n",
       "4545003    494864    27698            10          3                 22   \n",
       "4545004   1537077    20022             1          1                 12   \n",
       "4545005   3215753    16884            21          6                  8   \n",
       "4545006   3215753    16884            21          6                  8   \n",
       "\n",
       "         days_since_prior_order  product_id  add_to_cart_order  reordered  \\\n",
       "0                          30.0       19048                  1          1   \n",
       "1                           NaN       19048                 16          0   \n",
       "2                           8.0       19048                 11          0   \n",
       "3                          11.0       19048                  1          1   \n",
       "4                           6.0       19048                  9          1   \n",
       "...                         ...         ...                ...        ...   \n",
       "4545002                     6.0       17942                 35          1   \n",
       "4545003                    30.0       39288                 12          1   \n",
       "4545004                     NaN       22976                 11          0   \n",
       "4545005                     3.0       40617                  2          0   \n",
       "4545006                     3.0       34081                  1          1   \n",
       "\n",
       "                         product_name  aisle_id  department_id  \n",
       "0            Organic Butternut Squash        83              4  \n",
       "1            Organic Butternut Squash        83              4  \n",
       "2            Organic Butternut Squash        83              4  \n",
       "3            Organic Butternut Squash        83              4  \n",
       "4            Organic Butternut Squash        83              4  \n",
       "...                               ...       ...            ...  \n",
       "4545002    Steamables Golden Potatoes        83              4  \n",
       "4545003                Chicken Strips        49             12  \n",
       "4545004        Jacked Ranch Hot Chips       107             19  \n",
       "4545005  Ginger Peach With Matcha Tea        94              7  \n",
       "4545006               Peach Black Tea        94              7  \n",
       "\n",
       "[4545007 rows x 12 columns]"
      ]
     },
     "execution_count": 53,
     "metadata": {},
     "output_type": "execute_result"
    }
   ],
   "source": [
    "#Une los dataframes merged_orders_order_products y products por medio de la columna en común product_id\n",
    "merged_orders_order_products_names = merged_orders_order_products.merge(products, on = \"product_id\")\n",
    "merged_orders_order_products_names"
   ]
  },
  {
   "cell_type": "code",
   "execution_count": 54,
   "id": "professional-surfing",
   "metadata": {
    "id": "professional-surfing",
    "scrolled": true
   },
   "outputs": [],
   "source": [
    "#filtra el dataframe merged_orders_order_products_names por la consulta donde reordered sea igual a 1, cuenta las ocurrencias\n",
    "#y selecciona las 20 principales\n",
    "reordered_products = merged_orders_order_products_names.query(\"reordered == 1\")[\"product_name\"].value_counts().iloc[:20]"
   ]
  },
  {
   "cell_type": "code",
   "execution_count": 55,
   "id": "48dd3658",
   "metadata": {
    "id": "48dd3658"
   },
   "outputs": [
    {
     "data": {
      "text/plain": [
       "Banana                      55763\n",
       "Bag of Organic Bananas      44450\n",
       "Organic Strawberries        28639\n",
       "Organic Baby Spinach        26233\n",
       "Organic Hass Avocado        23629\n",
       "Organic Avocado             18743\n",
       "Organic Whole Milk          16251\n",
       "Large Lemon                 15044\n",
       "Organic Raspberries         14748\n",
       "Strawberries                13945\n",
       "Limes                       13327\n",
       "Organic Yellow Onion        11145\n",
       "Organic Garlic              10411\n",
       "Organic Zucchini            10076\n",
       "Cucumber Kirby               9538\n",
       "Organic Fuji Apple           8989\n",
       "Apple Honeycrisp Organic     8836\n",
       "Organic Blueberries          8799\n",
       "Organic Lemon                8412\n",
       "Organic Half & Half          8389\n",
       "Name: product_name, dtype: int64"
      ]
     },
     "execution_count": 55,
     "metadata": {},
     "output_type": "execute_result"
    }
   ],
   "source": [
    "reordered_products"
   ]
  },
  {
   "cell_type": "markdown",
   "id": "80e70c74",
   "metadata": {
    "id": "80e70c74"
   },
   "source": [
    "Escribe aquí tus conclusiones\n",
    "\n",
    "    Las bananas lideran los productos que se vuelven a comprar con mayor frecuencia, seguido de las bolsas de bananas orgánicas y las frutillas.\n",
    "    Al menos el 50% de los productos del top 20 que se recompran son frutas."
   ]
  },
  {
   "cell_type": "markdown",
   "id": "9d312b14",
   "metadata": {
    "id": "9d312b14"
   },
   "source": [
    "### [C3] Para cada producto, ¿cuál es la proporción de las veces que se pide y que se vuelve a pedir?"
   ]
  },
  {
   "cell_type": "code",
   "execution_count": 56,
   "id": "8ae9f4b1",
   "metadata": {
    "id": "8ae9f4b1"
   },
   "outputs": [
    {
     "data": {
      "text/plain": [
       "product_name\n",
       "#2 Coffee Filters                                                  0.254545\n",
       "#2 Cone White Coffee Filters                                       0.000000\n",
       "#2 Mechanical Pencils                                              0.000000\n",
       "#4 Natural Brown Coffee Filters                                    0.358974\n",
       "& Go! Hazelnut Spread + Pretzel Sticks                             0.466667\n",
       "                                                                     ...   \n",
       "with Xylitol Unwrapped Original Flavor 50 Sticks Sugar Free Gum    0.000000\n",
       "with Xylitol Unwrapped Spearmint 50 Sticks Sugar Free Gum          0.100000\n",
       "with Xylitol Watermelon Twist 18 Sticks Sugar Free Gum             0.428571\n",
       "with a Splash of Mango Coconut Water                               0.250000\n",
       "with a Splash of Pineapple Coconut Water                           0.454545\n",
       "Name: reordered, Length: 44614, dtype: float64"
      ]
     },
     "execution_count": 56,
     "metadata": {},
     "output_type": "execute_result"
    }
   ],
   "source": [
    "#agrupa el dataframe merged_orders_order_products_names por product_name y obtiene el promedio de los valores\n",
    "#de la columna reordered\n",
    "every_product_pro = merged_orders_order_products_names.groupby(\"product_name\")[\"reordered\"].mean()\n",
    "every_product_pro"
   ]
  },
  {
   "cell_type": "code",
   "execution_count": 57,
   "id": "103e7fe1",
   "metadata": {
    "id": "103e7fe1"
   },
   "outputs": [
    {
     "data": {
      "text/plain": [
       "product_name\n",
       "#2 Coffee Filters                                  0.254545\n",
       "#2 Cone White Coffee Filters                       0.000000\n",
       "#2 Mechanical Pencils                              0.000000\n",
       "#4 Natural Brown Coffee Filters                    0.358974\n",
       "& Go! Hazelnut Spread + Pretzel Sticks             0.466667\n",
       "(70% Juice!) Mountain Raspberry Juice Squeeze      1.000000\n",
       "+Energy Black Cherry Vegetable & Fruit Juice       0.428571\n",
       "0 Calorie Acai Raspberry Water Beverage            0.583333\n",
       "0 Calorie Fuji Apple Pear Water Beverage           0.833333\n",
       "0 Calorie Strawberry Dragonfruit Water Beverage    0.782609\n",
       "Name: reordered, dtype: float64"
      ]
     },
     "execution_count": 57,
     "metadata": {},
     "output_type": "execute_result"
    }
   ],
   "source": [
    "every_product_pro.head(10)"
   ]
  },
  {
   "cell_type": "code",
   "execution_count": 58,
   "id": "social-individual",
   "metadata": {
    "id": "social-individual"
   },
   "outputs": [
    {
     "data": {
      "text/plain": [
       "product_name\n",
       "with Twist Ties Sandwich & Storage Bags                            0.500000\n",
       "with Xylitol Cinnamon 18 Sticks Sugar Free Gum                     0.681818\n",
       "with Xylitol Island Berry Lime 18 Sticks Sugar Free Gum            0.750000\n",
       "with Xylitol Minty Sweet Twist 18 Sticks Sugar Free Gum            0.000000\n",
       "with Xylitol Original Flavor 18 Sticks Sugar Free Gum              0.470588\n",
       "with Xylitol Unwrapped Original Flavor 50 Sticks Sugar Free Gum    0.000000\n",
       "with Xylitol Unwrapped Spearmint 50 Sticks Sugar Free Gum          0.100000\n",
       "with Xylitol Watermelon Twist 18 Sticks Sugar Free Gum             0.428571\n",
       "with a Splash of Mango Coconut Water                               0.250000\n",
       "with a Splash of Pineapple Coconut Water                           0.454545\n",
       "Name: reordered, dtype: float64"
      ]
     },
     "execution_count": 58,
     "metadata": {},
     "output_type": "execute_result"
    }
   ],
   "source": [
    "every_product_pro.tail(10)"
   ]
  },
  {
   "cell_type": "markdown",
   "id": "I10dEIAyldcO",
   "metadata": {
    "id": "I10dEIAyldcO"
   },
   "source": [
    "Escribe aquí tus conclusiones\n",
    "\n",
    "    Existen varios productos que no se vuelven a pedir nunca y otros que son los favoritos de los clientes que siempre se recompran."
   ]
  },
  {
   "cell_type": "markdown",
   "id": "subject-boxing",
   "metadata": {
    "id": "subject-boxing"
   },
   "source": [
    "### [C4] Para cada cliente, ¿qué proporción de sus productos ya los había pedido?"
   ]
  },
  {
   "cell_type": "code",
   "execution_count": 59,
   "id": "medical-couple",
   "metadata": {
    "id": "medical-couple",
    "scrolled": true
   },
   "outputs": [
    {
     "data": {
      "text/html": [
       "<div>\n",
       "<style scoped>\n",
       "    .dataframe tbody tr th:only-of-type {\n",
       "        vertical-align: middle;\n",
       "    }\n",
       "\n",
       "    .dataframe tbody tr th {\n",
       "        vertical-align: top;\n",
       "    }\n",
       "\n",
       "    .dataframe thead th {\n",
       "        text-align: right;\n",
       "    }\n",
       "</style>\n",
       "<table border=\"1\" class=\"dataframe\">\n",
       "  <thead>\n",
       "    <tr style=\"text-align: right;\">\n",
       "      <th></th>\n",
       "      <th>product_name</th>\n",
       "      <th>reordered</th>\n",
       "      <th>user_id</th>\n",
       "      <th>product_id</th>\n",
       "    </tr>\n",
       "  </thead>\n",
       "  <tbody>\n",
       "    <tr>\n",
       "      <th>1515936</th>\n",
       "      <td>Organic Gala Apples</td>\n",
       "      <td>1</td>\n",
       "      <td>13562</td>\n",
       "      <td>37646</td>\n",
       "    </tr>\n",
       "    <tr>\n",
       "      <th>787445</th>\n",
       "      <td>Unsweetened Original Almond Breeze Almond Milk</td>\n",
       "      <td>1</td>\n",
       "      <td>44262</td>\n",
       "      <td>47144</td>\n",
       "    </tr>\n",
       "    <tr>\n",
       "      <th>1646929</th>\n",
       "      <td>Traditional Snack Mix</td>\n",
       "      <td>1</td>\n",
       "      <td>50341</td>\n",
       "      <td>40285</td>\n",
       "    </tr>\n",
       "    <tr>\n",
       "      <th>276490</th>\n",
       "      <td>Icelandic Style Skyr Blueberry Non-fat Yogurt</td>\n",
       "      <td>1</td>\n",
       "      <td>9945</td>\n",
       "      <td>28465</td>\n",
       "    </tr>\n",
       "    <tr>\n",
       "      <th>1300214</th>\n",
       "      <td>Cran-Raspberry Flavored Sparkling Water</td>\n",
       "      <td>1</td>\n",
       "      <td>125877</td>\n",
       "      <td>7693</td>\n",
       "    </tr>\n",
       "  </tbody>\n",
       "</table>\n",
       "</div>"
      ],
      "text/plain": [
       "                                           product_name  reordered  user_id  \\\n",
       "1515936                             Organic Gala Apples          1    13562   \n",
       "787445   Unsweetened Original Almond Breeze Almond Milk          1    44262   \n",
       "1646929                           Traditional Snack Mix          1    50341   \n",
       "276490    Icelandic Style Skyr Blueberry Non-fat Yogurt          1     9945   \n",
       "1300214         Cran-Raspberry Flavored Sparkling Water          1   125877   \n",
       "\n",
       "         product_id  \n",
       "1515936       37646  \n",
       "787445        47144  \n",
       "1646929       40285  \n",
       "276490        28465  \n",
       "1300214        7693  "
      ]
     },
     "execution_count": 59,
     "metadata": {},
     "output_type": "execute_result"
    }
   ],
   "source": [
    "#filtra el dataframe merged_orders_order_products_names por order_id \n",
    "every_product_client = merged_orders_order_products_names.query(\"order_id\")[[\"product_name\",\"reordered\",\"user_id\",\"product_id\"]]\n",
    "every_product_client.head()"
   ]
  },
  {
   "cell_type": "code",
   "execution_count": 60,
   "id": "8892e4b4",
   "metadata": {
    "id": "8892e4b4"
   },
   "outputs": [
    {
     "data": {
      "text/html": [
       "<div>\n",
       "<style scoped>\n",
       "    .dataframe tbody tr th:only-of-type {\n",
       "        vertical-align: middle;\n",
       "    }\n",
       "\n",
       "    .dataframe tbody tr th {\n",
       "        vertical-align: top;\n",
       "    }\n",
       "\n",
       "    .dataframe thead th {\n",
       "        text-align: right;\n",
       "    }\n",
       "</style>\n",
       "<table border=\"1\" class=\"dataframe\">\n",
       "  <thead>\n",
       "    <tr style=\"text-align: right;\">\n",
       "      <th></th>\n",
       "      <th>reordered</th>\n",
       "    </tr>\n",
       "    <tr>\n",
       "      <th>user_id</th>\n",
       "      <th></th>\n",
       "    </tr>\n",
       "  </thead>\n",
       "  <tbody>\n",
       "    <tr>\n",
       "      <th>2</th>\n",
       "      <td>0.000000</td>\n",
       "    </tr>\n",
       "    <tr>\n",
       "      <th>5</th>\n",
       "      <td>0.979167</td>\n",
       "    </tr>\n",
       "    <tr>\n",
       "      <th>6</th>\n",
       "      <td>0.000000</td>\n",
       "    </tr>\n",
       "    <tr>\n",
       "      <th>7</th>\n",
       "      <td>1.000000</td>\n",
       "    </tr>\n",
       "    <tr>\n",
       "      <th>11</th>\n",
       "      <td>1.000000</td>\n",
       "    </tr>\n",
       "    <tr>\n",
       "      <th>...</th>\n",
       "      <td>...</td>\n",
       "    </tr>\n",
       "    <tr>\n",
       "      <th>206203</th>\n",
       "      <td>1.000000</td>\n",
       "    </tr>\n",
       "    <tr>\n",
       "      <th>206206</th>\n",
       "      <td>1.000000</td>\n",
       "    </tr>\n",
       "    <tr>\n",
       "      <th>206207</th>\n",
       "      <td>1.000000</td>\n",
       "    </tr>\n",
       "    <tr>\n",
       "      <th>206208</th>\n",
       "      <td>0.531746</td>\n",
       "    </tr>\n",
       "    <tr>\n",
       "      <th>206209</th>\n",
       "      <td>0.666667</td>\n",
       "    </tr>\n",
       "  </tbody>\n",
       "</table>\n",
       "<p>110843 rows × 1 columns</p>\n",
       "</div>"
      ],
      "text/plain": [
       "         reordered\n",
       "user_id           \n",
       "2         0.000000\n",
       "5         0.979167\n",
       "6         0.000000\n",
       "7         1.000000\n",
       "11        1.000000\n",
       "...            ...\n",
       "206203    1.000000\n",
       "206206    1.000000\n",
       "206207    1.000000\n",
       "206208    0.531746\n",
       "206209    0.666667\n",
       "\n",
       "[110843 rows x 1 columns]"
      ]
     },
     "execution_count": 60,
     "metadata": {},
     "output_type": "execute_result"
    }
   ],
   "source": [
    "#agrupa el dataframe every_product_client por user_id y obtiene el promedio de los valores de la columna reordered\n",
    "every_product_user= every_product_client.groupby(\"user_id\")[[\"reordered\"]].mean()\n",
    "every_product_user\n"
   ]
  },
  {
   "cell_type": "markdown",
   "id": "BgJSvXDsleXz",
   "metadata": {
    "id": "BgJSvXDsleXz"
   },
   "source": [
    "Escribe aquí tus conclusiones\n",
    "\n",
    "    Existen usuarios que no hicieron ninguna recompra de un producto y otros que recompraron todos sus productos en diferentes órdenes."
   ]
  },
  {
   "cell_type": "markdown",
   "id": "92d35137",
   "metadata": {
    "id": "92d35137"
   },
   "source": [
    "### [C5] ¿Cuáles son los 20 principales artículos que las personas ponen primero en sus carritos?"
   ]
  },
  {
   "cell_type": "code",
   "execution_count": 61,
   "id": "0ae57274",
   "metadata": {
    "id": "0ae57274",
    "scrolled": true
   },
   "outputs": [
    {
     "data": {
      "text/html": [
       "<div>\n",
       "<style scoped>\n",
       "    .dataframe tbody tr th:only-of-type {\n",
       "        vertical-align: middle;\n",
       "    }\n",
       "\n",
       "    .dataframe tbody tr th {\n",
       "        vertical-align: top;\n",
       "    }\n",
       "\n",
       "    .dataframe thead th {\n",
       "        text-align: right;\n",
       "    }\n",
       "</style>\n",
       "<table border=\"1\" class=\"dataframe\">\n",
       "  <thead>\n",
       "    <tr style=\"text-align: right;\">\n",
       "      <th></th>\n",
       "      <th>product_id</th>\n",
       "      <th>product_name</th>\n",
       "      <th>add_to_cart_order</th>\n",
       "    </tr>\n",
       "  </thead>\n",
       "  <tbody>\n",
       "    <tr>\n",
       "      <th>0</th>\n",
       "      <td>19048</td>\n",
       "      <td>Organic Butternut Squash</td>\n",
       "      <td>1</td>\n",
       "    </tr>\n",
       "    <tr>\n",
       "      <th>3</th>\n",
       "      <td>19048</td>\n",
       "      <td>Organic Butternut Squash</td>\n",
       "      <td>1</td>\n",
       "    </tr>\n",
       "    <tr>\n",
       "      <th>16</th>\n",
       "      <td>19048</td>\n",
       "      <td>Organic Butternut Squash</td>\n",
       "      <td>1</td>\n",
       "    </tr>\n",
       "    <tr>\n",
       "      <th>18</th>\n",
       "      <td>19048</td>\n",
       "      <td>Organic Butternut Squash</td>\n",
       "      <td>1</td>\n",
       "    </tr>\n",
       "    <tr>\n",
       "      <th>40</th>\n",
       "      <td>19048</td>\n",
       "      <td>Organic Butternut Squash</td>\n",
       "      <td>1</td>\n",
       "    </tr>\n",
       "    <tr>\n",
       "      <th>...</th>\n",
       "      <td>...</td>\n",
       "      <td>...</td>\n",
       "      <td>...</td>\n",
       "    </tr>\n",
       "    <tr>\n",
       "      <th>4544953</th>\n",
       "      <td>32389</td>\n",
       "      <td>Original  Animal Crackers</td>\n",
       "      <td>1</td>\n",
       "    </tr>\n",
       "    <tr>\n",
       "      <th>4544984</th>\n",
       "      <td>34074</td>\n",
       "      <td>16 Bean Soup Mix</td>\n",
       "      <td>1</td>\n",
       "    </tr>\n",
       "    <tr>\n",
       "      <th>4544985</th>\n",
       "      <td>18592</td>\n",
       "      <td>Quercetin 500 Mg</td>\n",
       "      <td>1</td>\n",
       "    </tr>\n",
       "    <tr>\n",
       "      <th>4545000</th>\n",
       "      <td>29187</td>\n",
       "      <td>Sore Throat &amp; Cough Vapor Cherry Losenges</td>\n",
       "      <td>1</td>\n",
       "    </tr>\n",
       "    <tr>\n",
       "      <th>4545006</th>\n",
       "      <td>34081</td>\n",
       "      <td>Peach Black Tea</td>\n",
       "      <td>1</td>\n",
       "    </tr>\n",
       "  </tbody>\n",
       "</table>\n",
       "<p>450046 rows × 3 columns</p>\n",
       "</div>"
      ],
      "text/plain": [
       "         product_id                               product_name  \\\n",
       "0             19048                   Organic Butternut Squash   \n",
       "3             19048                   Organic Butternut Squash   \n",
       "16            19048                   Organic Butternut Squash   \n",
       "18            19048                   Organic Butternut Squash   \n",
       "40            19048                   Organic Butternut Squash   \n",
       "...             ...                                        ...   \n",
       "4544953       32389                  Original  Animal Crackers   \n",
       "4544984       34074                           16 Bean Soup Mix   \n",
       "4544985       18592                           Quercetin 500 Mg   \n",
       "4545000       29187  Sore Throat & Cough Vapor Cherry Losenges   \n",
       "4545006       34081                            Peach Black Tea   \n",
       "\n",
       "         add_to_cart_order  \n",
       "0                        1  \n",
       "3                        1  \n",
       "16                       1  \n",
       "18                       1  \n",
       "40                       1  \n",
       "...                    ...  \n",
       "4544953                  1  \n",
       "4544984                  1  \n",
       "4544985                  1  \n",
       "4545000                  1  \n",
       "4545006                  1  \n",
       "\n",
       "[450046 rows x 3 columns]"
      ]
     },
     "execution_count": 61,
     "metadata": {},
     "output_type": "execute_result"
    }
   ],
   "source": [
    "#Filtra el dataframe merged_orders_order_products_names por los productos que fueron primeros en añadir al carrito\n",
    "first_products_cart = merged_orders_order_products_names.query(\"add_to_cart_order == 1\")[[\"product_id\",\"product_name\",\"add_to_cart_order\"]]\n",
    "first_products_cart\n"
   ]
  },
  {
   "cell_type": "code",
   "execution_count": 62,
   "id": "forty-netherlands",
   "metadata": {
    "id": "forty-netherlands",
    "scrolled": true
   },
   "outputs": [],
   "source": [
    "#agrupa el dataframe first_products_cart por product_name y cuenta las ocurrencias por product_id\n",
    "#y ordena los valores resultantes\n",
    "grouped_first_cart = first_products_cart.groupby(\"product_name\")[\"product_id\"].count().sort_values()"
   ]
  },
  {
   "cell_type": "code",
   "execution_count": 63,
   "id": "08e41ec2",
   "metadata": {
    "id": "08e41ec2"
   },
   "outputs": [
    {
     "name": "stdout",
     "output_type": "stream",
     "text": [
      "\n"
     ]
    },
    {
     "data": {
      "image/png": "[encoded data removed]",
      "text/plain": [
       "<Figure size 936x576 with 1 Axes>"
      ]
     },
     "metadata": {
      "needs_background": "light"
     },
     "output_type": "display_data"
    }
   ],
   "source": [
    "#muestra el top 20 de los productos que los clientes ponen primero en sus carritos\n",
    "plot_first_cart = grouped_first_cart.tail(20).sort_values(ascending=False)\n",
    "\n",
    "print()\n",
    "#genera un gráfico de barras por product_name vs la frecuencia de compra\n",
    "plot_first_cart.plot(x = \"product_name\",\n",
    "                    kind = \"bar\",\n",
    "                    title = \"Top 20 de productos que primero se ponen en el carrito de compras\",\n",
    "                    xlabel = \"Productos\",\n",
    "                    y = \"Cantidad de productos vendidos\",\n",
    "                    figsize =[13,8])\n",
    "\n",
    "plt.show()"
   ]
  },
  {
   "cell_type": "markdown",
   "id": "28ce9872",
   "metadata": {
    "id": "28ce9872"
   },
   "source": [
    "Escribe aquí tus conclusiones\n",
    "\n",
    "    Del análisis podemos concluir que el top 3 de productos que los cliente primero ponen en sus carritos está compuesta por bananas, bolsa de bananas orgánicas y leche entera orgánica.\n",
    "    De este mismo modo podríamos intuir que el primer pasillo al que acuden los clientes durante sus compras, es el pasillo de fruta fresca."
   ]
  },
  {
   "cell_type": "markdown",
   "id": "9bf5cc48",
   "metadata": {},
   "source": [
    "<div class=\"alert alert-block alert-success\">\n",
    "<b>Comentario del revisor</b> <a class=\"tocSkip\"></a>\n",
    "\n",
    "Muy buen desarrollo de la sección. Desarrollaste de buena manera todos los análisis y lo complementaste con una gráfica. \n",
    "</div>"
   ]
  },
  {
   "cell_type": "markdown",
   "id": "uITbFCEoDosC",
   "metadata": {
    "id": "uITbFCEoDosC"
   },
   "source": [
    "### Conclusion general del proyecto:"
   ]
  },
  {
   "cell_type": "markdown",
   "id": "9df8d28a",
   "metadata": {
    "id": "Nk-4GS7mDwqY"
   },
   "source": [
    "Luego del profundo análisis realizado para este proyecto, podemos concluir lo siguiente:\n",
    "    \n",
    "    - Los horarios de menos actividad en la tienda está en el rango de 3:00 a 4:00, mientras que la franja horaria donde los clientes hacen más pedidos está en el rango de las 10:00 a 11:00\n",
    "    - Las personas acuden en mayor cantidad a realizar sus compras los días domingos, no obstante, los días lunes también existe un grupo de clientes significativo que acude a la tienda\n",
    "    - La mayoría de los usuarios prefiere realizar sus compras cada 7 días, es decir semanalmente, eligiendo como día favorito el día domingo\n",
    "    - El día jueves es el menos favorito para acudir a la tienda por compras semanales\n",
    "    - El promedio aproximado de pedidos por cliente es de 3\n",
    "    - Las bananas y la bolsa de bananas orgánicas son los productos más populares de la tienda\n",
    "    - Podría existir alguna falla en el sistema de registro de los productos que ingresan al carrito de compras, ya que luego del producto 65, este no registra ningún orden\n",
    "    - El promedio de productos que los clientes se llevan por cada orden es de 18, aproximadamente\n",
    "    - El las bananas y bolsa de bananas vuelven a liderar como los productos que la gente recompra en sus siguientes órdenes\n",
    "    - Las frutas son las más recompradas, ya que del top 20 de productos que la gente recompra, el 50% son frutas\n",
    "    - Existen productos que la gente no recompra y otros que siempre los recompran, esto puede servir para idear una estrategia para incentivar los productos poco comprados o sacarlos definitivamente de percha y potenciar los productos que la gente más pide\n",
    "    - Por último, las bananas es el producto número 1 que los clientes coloca en su carrito, lo que también podría significar que es el primer pasillo en visitar y posiblemente el más visitado por los clientes"
   ]
  },
  {
   "cell_type": "markdown",
   "id": "e246f6e7",
   "metadata": {},
   "source": [
    "<div class=\"alert alert-block alert-warning\">\n",
    "<b>Comentario revisor</b> <a class=\"tocSkip\"></a>\n",
    "\n",
    "En general creo que hiciste un muy buen trabajo con el proyecto, pudiste limpiar y trabajar las bases de datos de beuna manera, análisis de duplicados, y de valores faltantes. Además dearrollaste de buena manera los diferentes anális que se solicitaban y cuando podías los complementabas con greaficas. No obstante, recuerda que siempre podemos mejorar y te menciono algunos puntos que debes considerar:\n",
    "\n",
    "* Revisar que los filtros sean correctos en algunos apartados con base en la indicación\n",
    "    \n",
    "    \n",
    "*  Realizar análisis complementarios eliminando los valores que parecen ser atípicos. \n",
    "    \n",
    "*  Realizar gráficas de barras en algunos análisis para complementarlos.\n",
    "    \n",
    "*  Ordenar los datos para que sean más claros los resultados.\n",
    "    \n",
    "*  Profundizar en los resultados intermedios\n",
    "\n",
    "</div>"
   ]
  }
 ],
 "metadata": {
  "colab": {
   "provenance": []
  },
  "kernelspec": {
   "display_name": "Python 3 (ipykernel)",
   "language": "python",
   "name": "python3"
  },
  "language_info": {
   "codemirror_mode": {
    "name": "ipython",
    "version": 3
   },
   "file_extension": ".py",
   "mimetype": "text/x-python",
   "name": "python",
   "nbconvert_exporter": "python",
   "pygments_lexer": "ipython3",
   "version": "3.9.19"
  },
  "toc": {
   "base_numbering": 1,
   "nav_menu": {},
   "number_sections": true,
   "sideBar": true,
   "skip_h1_title": true,
   "title_cell": "Table of Contents",
   "title_sidebar": "Contents",
   "toc_cell": false,
   "toc_position": {},
   "toc_section_display": true,
   "toc_window_display": false
  },
  "vscode": {
   "interpreter": {
    "hash": "01a7be9ec63e704a62cefc5fe7a4756944464ee731be31632bdf42a4cb4688cf"
   }
  }
 },
 "nbformat": 4,
 "nbformat_minor": 5
}
